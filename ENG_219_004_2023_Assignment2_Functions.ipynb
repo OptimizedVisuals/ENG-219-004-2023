{
  "cells": [
    {
      "cell_type": "markdown",
      "metadata": {
        "id": "view-in-github",
        "colab_type": "text"
      },
      "source": [
        "<a href=\"https://colab.research.google.com/github/OptimizedVisuals/ENG-219-004-2023/blob/main/ENG_219_004_2023_Assignment2_Functions.ipynb\" target=\"_parent\"><img src=\"https://colab.research.google.com/assets/colab-badge.svg\" alt=\"Open In Colab\"/></a>"
      ]
    },
    {
      "cell_type": "markdown",
      "metadata": {
        "id": "3fW5OJlQsh8g"
      },
      "source": [
        "## Exercise 04.1 (simple function)\n",
        "\n",
        "Write a function called `is_even` which takes an integer as an argument and returns `True` if the argument is even, and otherwise returns `False`. Test your function for several values."
      ]
    },
    {
      "cell_type": "code",
      "source": [
        "def is_even(num):\n",
        "    return num % 2 == 0\n",
        "user_input = int(input(\"Enter an integer: \"))\n",
        "result = is_even(user_input)\n",
        "print(result)"
      ],
      "metadata": {
        "id": "SwNYzkxLzXlG",
        "colab": {
          "base_uri": "https://localhost:8080/"
        },
        "outputId": "1ff3ee9d-b72d-4e06-d868-f1bfe0db654d"
      },
      "execution_count": 6,
      "outputs": [
        {
          "output_type": "stream",
          "name": "stdout",
          "text": [
            "Enter an integer: 1000\n",
            "True\n"
          ]
        }
      ]
    },
    {
      "cell_type": "code",
      "execution_count": 10,
      "metadata": {
        "colab": {
          "base_uri": "https://localhost:8080/"
        },
        "id": "EsncudILsh8m",
        "outputId": "bb25ca3a-841f-4b4b-c418-0b3be20d3eab"
      },
      "outputs": [
        {
          "output_type": "stream",
          "name": "stdout",
          "text": [
            "True\n",
            "False\n"
          ]
        }
      ],
      "source": [
        "def is_even(x):\n",
        "    if x % 2 == 0:\n",
        "        return True\n",
        "    else:\n",
        "        return False\n",
        "\n",
        "print(is_even(400))\n",
        "print(is_even(6669))"
      ]
    },
    {
      "cell_type": "code",
      "source": [
        "def is_even(x):\n",
        "    return x % 2 == 0\n",
        "\n",
        "print(is_even(32))\n",
        "print(is_even(0))\n",
        "print(is_even(222))"
      ],
      "metadata": {
        "colab": {
          "base_uri": "https://localhost:8080/"
        },
        "id": "cPyOrYpLzib1",
        "outputId": "bd872287-d258-4188-a8d6-29333ce69ef1"
      },
      "execution_count": 11,
      "outputs": [
        {
          "output_type": "stream",
          "name": "stdout",
          "text": [
            "True\n",
            "True\n",
            "True\n"
          ]
        }
      ]
    },
    {
      "cell_type": "markdown",
      "metadata": {
        "id": "o6E1_RYrsh8p"
      },
      "source": [
        "## Exercise 04.2 (functions and default arguments)\n",
        "\n",
        "Write a single function named `magnitude` that takes each component of a vector of length 2 or 3 and returns the magnitude.\n",
        "Use default arguments to handle vectors of length 2 or 3 with the same code. Test your function for correctness against hand calculations for a selection of values."
      ]
    },
    {
      "cell_type": "code",
      "execution_count": 13,
      "metadata": {
        "colab": {
          "base_uri": "https://localhost:8080/"
        },
        "id": "ZZo0oTFesh8p",
        "outputId": "6d9042af-caff-4344-d764-6c85beb767be"
      },
      "outputs": [
        {
          "output_type": "stream",
          "name": "stdout",
          "text": [
            "3.605551275463989\n",
            "3.0\n",
            "0.0\n",
            "13.0\n"
          ]
        }
      ],
      "source": [
        "def magnitude(x, y, z=0):\n",
        "    return (x**2 + y**2 + z**2)**(1/2)\n",
        "\n",
        "print(magnitude(2, 3))\n",
        "print(magnitude(0, 0, 0))\n",
        "print(magnitude(5, 12))"
      ]
    },
    {
      "cell_type": "code",
      "source": [
        "def magnitude(*args):\n",
        "    return (sum(x**2 for x in args))**(1/2)\n",
        "\n",
        "print(magnitude(3, 4, 5))\n",
        "print(magnitude(-2, 0, 2))\n",
        "print(magnitude(10, -5))"
      ],
      "metadata": {
        "colab": {
          "base_uri": "https://localhost:8080/"
        },
        "id": "ZbUIEXff1-eO",
        "outputId": "e2a88518-1379-4481-f31b-28504aae9e1f"
      },
      "execution_count": 14,
      "outputs": [
        {
          "output_type": "stream",
          "name": "stdout",
          "text": [
            "7.0710678118654755\n",
            "2.8284271247461903\n",
            "11.180339887498949\n"
          ]
        }
      ]
    },
    {
      "cell_type": "markdown",
      "metadata": {
        "id": "rLvbuk7nsh8r"
      },
      "source": [
        "## Exercise 04.3 (functions)\n",
        "\n",
        "Given the coordinates of the vertices of a triangle, $(x_0, y_0)$, $(x_1, y_1)$ and $(x_2, y_2)$, the area $A$ of the triangle is given by:\n",
        "$$\n",
        "A = \\left| \\frac{x_0(y_1  - y_2) + x_1(y_2 - y_0) + x_2(y_0 - y_1)}{2} \\right|\n",
        "$$\n",
        "Write a function named `area` that computes the area of a triangle given the coordinates of the vertices.\n",
        "The order of the function arguments must be (`x0, y0, x1, y1, x2, y2)`.\n",
        "\n",
        "Test the output of your function against some known solutions."
      ]
    },
    {
      "cell_type": "code",
      "execution_count": 15,
      "metadata": {
        "colab": {
          "base_uri": "https://localhost:8080/"
        },
        "id": "bU1keESumtLm",
        "outputId": "1f6deec1-5428-4bc2-9863-72e630654274"
      },
      "outputs": [
        {
          "output_type": "stream",
          "name": "stdout",
          "text": [
            "10.5\n",
            "14.0\n",
            "12.5\n"
          ]
        }
      ],
      "source": [
        "def area(x0, y0, x1, y1, x2, y2):\n",
        "    return abs((x0 * (y1 - y2) + x1 * (y2 - y0) + x2 * (y0 - y1)) / 2)\n",
        "\n",
        "print(area(1, 2, 4, 6, 7, 3))\n",
        "print(area(-2, 1, 3, 5, 0, -3))\n",
        "print(area(0, 0, 5, 0, 0, 5))"
      ]
    },
    {
      "cell_type": "code",
      "source": [
        "def area(*args):\n",
        "    x0, y0, x1, y1, x2, y2 = args\n",
        "    return abs((x0 * (y1 - y2) + x1 * (y2 - y0) + x2 * (y0 - y1)) / 2)\n",
        "\n",
        "print(area(-1, -2, 3, 1, 0, 4))\n",
        "print(area(1, 1, 4, 1, 1, 4))"
      ],
      "metadata": {
        "colab": {
          "base_uri": "https://localhost:8080/"
        },
        "id": "8GuvdHM33RNJ",
        "outputId": "3ec45149-662d-4b55-b359-803de3a0f401"
      },
      "execution_count": 16,
      "outputs": [
        {
          "output_type": "stream",
          "name": "stdout",
          "text": [
            "10.5\n",
            "4.5\n"
          ]
        }
      ]
    },
    {
      "cell_type": "markdown",
      "metadata": {
        "id": "jb-JoQHzsh8s"
      },
      "source": [
        "## Exercise 04.4 (recursion)\n",
        "\n",
        "The factorial of a non-negative integer $n$ is expressed recursively by:\n",
        "$$\n",
        "n! =\n",
        "\\begin{cases}\n",
        "1 & n = 0 \\\\\n",
        "(n - 1)! \\,n & n > 0\n",
        "\\end{cases}\n",
        "$$\n",
        "\n",
        "Develop a function named `factorial` for computing the factorial using recursion.\n",
        "Test your function against the `math.factorial` function, e.g."
      ]
    },
    {
      "cell_type": "code",
      "execution_count": 19,
      "metadata": {
        "colab": {
          "base_uri": "https://localhost:8080/"
        },
        "id": "RRMXyZpqsh8s",
        "outputId": "bb8fb00b-efa0-4ff0-8052-e8c9eb3b2c2c"
      },
      "outputs": [
        {
          "output_type": "stream",
          "name": "stdout",
          "text": [
            "The factorial of 6 is 720\n"
          ]
        }
      ],
      "source": [
        "def factorial(n):\n",
        "    if n == 0:\n",
        "        return 1\n",
        "    else:\n",
        "        result = 1\n",
        "        for i in range(1, n + 1):\n",
        "            result *= i\n",
        "        return result\n",
        "\n",
        "print(\"The factorial of 6 is\", factorial(6))"
      ]
    },
    {
      "cell_type": "code",
      "source": [
        "def factorial(n):\n",
        "    import math\n",
        "    if n == 0:\n",
        "        return 1\n",
        "    else:\n",
        "        return n * math.factorial(n - 1)\n",
        "\n",
        "N = factorial(5)\n",
        "print(\"The factorial of 5 is\", N)\n",
        "\n"
      ],
      "metadata": {
        "colab": {
          "base_uri": "https://localhost:8080/"
        },
        "id": "xkcU50Wd37RV",
        "outputId": "8cea74ac-d60f-4230-c86f-1888f5e53508"
      },
      "execution_count": 17,
      "outputs": [
        {
          "output_type": "stream",
          "name": "stdout",
          "text": [
            "The factorial of 5 is 120\n"
          ]
        }
      ]
    },
    {
      "cell_type": "code",
      "source": [
        "# Verification against math.factorial\n",
        "def factorial(n):\n",
        "    import math\n",
        "    if n == 0:\n",
        "        return 1\n",
        "    else:\n",
        "        return n * math.factorial(n - 1)\n",
        "\n",
        "N = factorial(5)\n",
        "\n",
        "import math\n",
        "assert factorial(5) == math.factorial(5)\n",
        "print(\"The factorial of 5 is\", N)"
      ],
      "metadata": {
        "colab": {
          "base_uri": "https://localhost:8080/"
        },
        "id": "em75tkh9CdHO",
        "outputId": "ed697797-98f6-40cd-91d7-291bb359056b"
      },
      "execution_count": 18,
      "outputs": [
        {
          "output_type": "stream",
          "name": "stdout",
          "text": [
            "The factorial of 5 is 120\n"
          ]
        }
      ]
    },
    {
      "cell_type": "markdown",
      "metadata": {
        "id": "ZtsafLq0sh8u"
      },
      "source": [
        "## Exercise 04.5 (functions and passing functions as arguments)\n",
        "\n",
        "Restructure your program from the bisection problem in Exercise 02 to\n",
        "\n",
        "- Use a Python function to evaluate the mathematical function $f$ that we want to find the root of;\n",
        "\n",
        "and then\n",
        "\n",
        "- Encapsulate the bisection algorithm inside a Python function, which takes as arguments:\n",
        "  1. the function we want to find the roots of\n",
        "  1. the points $x_{0}$ and $x_{1}$ between which we want to search for a root\n",
        "  1. the tolerance for exiting the bisection algorithm (exit when $|f(x)| < \\text{tol}$)\n",
        "  1. maximum number of iterations (the algorithm should exit once this limit is reached)\n",
        "\n",
        "For the first step, create a Python function for evaluating $f$, e.g.:z\n",
        "```python\n",
        "def f(x):\n",
        "    # Put body of the function f(x) here, returning the function value\n",
        "```           \n",
        "For the second step, encapsulate the bisection algorithm in a function:\n",
        "```python\n",
        "def compute_root(f, x0, x1, tol, max_it):\n",
        "\n",
        "    # Implement bisection algorithm here, and return when tolerance is satisfied or\n",
        "    # number of iterations exceeds max_it\n",
        "\n",
        "    # Return the approximate root, value of f(x) and the number of iterations\n",
        "    return x, f, num_it\n",
        "\n",
        "# Compute approximate root of the function f\n",
        "x, f_x, num_it = compute_root(f, x0=0, x1=1, tol=1.0e-6, max_it=1000)\n",
        "```\n",
        "\n",
        "You can try testing your program for a function $f(x)$ that is simpler from the function Exercise 02, e.g. $f(x) = x - 4$.\n",
        "A quadratic function, the roots of which you can find analytically, would be a good test case."
      ]
    },
    {
      "cell_type": "markdown",
      "metadata": {
        "id": "KBtGgIuJsh8u"
      },
      "source": [
        "### Solution\n",
        "\n",
        "Define the function for computing $f(x)$:"
      ]
    },
    {
      "cell_type": "code",
      "execution_count": null,
      "metadata": {
        "id": "MAAoORXXsh8v"
      },
      "outputs": [],
      "source": [
        "import math\n",
        "\n",
        "def my_f(x):\n",
        "    \"\"\"Evaluate polynomial function\"\"\"\n",
        "    return x**5 / 10 + x**3 - 10 * x**2 + 4 * x + 7"
      ]
    },
    {
      "cell_type": "code",
      "execution_count": null,
      "metadata": {
        "id": "Z8qQHcjgsh8v"
      },
      "outputs": [],
      "source": [
        "def compute_root(f, x0, x1, tol, max_it):\n",
        "    num_iterations = 0\n",
        "    f_mid = float('inf')  # Initialize f_mid to a large value\n",
        "    while abs(f_mid) > tol and num_iterations < max_it:\n",
        "        x_mid = (x0 + x1) / 2\n",
        "        f_mid = f(x_mid)  # Evaluate the function at the midpoint\n",
        "        if f(x0) * f_mid < 0:\n",
        "            x1 = x_mid\n",
        "        else:\n",
        "            x0 = x_mid\n",
        "        num_iterations += 1\n",
        "    return x_mid, f_mid, num_iterations"
      ]
    },
    {
      "cell_type": "markdown",
      "source": [],
      "metadata": {
        "id": "m4JHGvo1PHfq"
      }
    },
    {
      "cell_type": "code",
      "execution_count": 26,
      "metadata": {
        "id": "obOcikedsh8v",
        "colab": {
          "base_uri": "https://localhost:8080/"
        },
        "outputId": "b70600d7-22f4-4ac2-aae5-c36179b21dfc"
      },
      "outputs": [
        {
          "output_type": "stream",
          "name": "stdout",
          "text": [
            "Approximate root for my_f: 1.1568354368209839\n",
            "Approximate root for f1(x): 4.0\n",
            "Approximate root for f2(x): 2.000000238418579\n"
          ]
        }
      ],
      "source": [
        "import math\n",
        "\n",
        "# Test with my_f (from Exercise 02)\n",
        "x, f, num_it = compute_root(my_f, x0=0, x1=2, tol=1.0e-6, max_it=1000)\n",
        "print(\"Approximate root for my_f:\", x)\n",
        "assert math.isclose(x, 1.1568354368209839)\n",
        "\n",
        "# Test with f(x) = x - 4\n",
        "def f1(x):\n",
        "    return x - 4\n",
        "\n",
        "x, f, num_it = compute_root(f1, x0=3, x1=5, tol=1.0e-6, max_it=1000)\n",
        "print(\"Approximate root for f1(x):\", x)\n",
        "assert math.isclose(x, 4)  # Expected root is 4\n",
        "\n",
        "# Test with a quadratic function: f(x) = x^2 - 4\n",
        "def f2(x):\n",
        "    return x**2 - 4\n",
        "\n",
        "x, f, num_it = compute_root(f2, x0=0, x1=3, tol=1.0e-6, max_it=1000)\n",
        "print(\"Approximate root for f2(x):\", x)"
      ]
    },
    {
      "cell_type": "markdown",
      "metadata": {
        "id": "JhGnQvVWsh8w"
      },
      "source": [
        "#### Optional extension\n",
        "\n",
        "Use recursion to write a `compute_root` function that *does not* require a `for` or `while` loop."
      ]
    },
    {
      "cell_type": "code",
      "execution_count": 29,
      "metadata": {
        "id": "akULHpDZsh8w",
        "colab": {
          "base_uri": "https://localhost:8080/"
        },
        "outputId": "a21d9484-198f-44bd-8770-19793aae7630"
      },
      "outputs": [
        {
          "output_type": "stream",
          "name": "stdout",
          "text": [
            "Root: 2.000000238418579\n",
            "Function value at root: 9.536743732496689e-07\n",
            "Iterations: 21\n",
            "Root: 2.0945515632629395\n",
            "Function value at root: 9.121195727601616e-07\n",
            "Iterations: 21\n"
          ]
        }
      ],
      "source": [
        "def compute_root(f, x0, x1, tol, max_it, it_count=0):\n",
        "    x_mid = (x0 + x1) / 2\n",
        "    f_mid = f(x_mid)\n",
        "\n",
        "    if abs(f_mid) <= tol or it_count >= max_it:\n",
        "        return x_mid, f_mid, it_count  # Base case: tolerance or max iterations reached\n",
        "\n",
        "    it_count += 1\n",
        "\n",
        "    if f(x0) * f_mid < 0:\n",
        "        return compute_root(f, x0, x_mid, tol, max_it, it_count)  # Recursive call\n",
        "    else:\n",
        "        return compute_root(f, x_mid, x1, tol, max_it, it_count)  # Recursive call\n",
        "\n",
        "# test: x^2 - 4 = 0\n",
        "def my_function(x):\n",
        "    return x**2 - 4\n",
        "\n",
        "x_root, f_root, iterations = compute_root(my_function, 0, 3, 1e-6, 100)\n",
        "\n",
        "print(f\"Root: {x_root}\")\n",
        "print(f\"Function value at root: {f_root}\")\n",
        "print(f\"Iterations: {iterations}\")\n",
        "\n",
        "def another_function(x):\n",
        "    return x**3 - 2*x - 5\n",
        "\n",
        "x_root2, f_root2, iterations2 = compute_root(another_function, 1, 3, 1e-6, 100)\n",
        "\n",
        "print(f\"Root: {x_root2}\")\n",
        "print(f\"Function value at root: {f_root2}\")\n",
        "print(f\"Iterations: {iterations2}\")"
      ]
    },
    {
      "cell_type": "code",
      "execution_count": 30,
      "metadata": {
        "id": "slTONLU0sh8x",
        "colab": {
          "base_uri": "https://localhost:8080/"
        },
        "outputId": "00292aca-f91e-4004-957d-4b1bbb3e2e17"
      },
      "outputs": [
        {
          "output_type": "stream",
          "name": "stdout",
          "text": [
            "Approximate root for my_f: 1.1568354368209839\n",
            "Approximate root for f1(x): 4.0\n"
          ]
        }
      ],
      "source": [
        "import math\n",
        "\n",
        "def my_f(x):\n",
        "    \"\"\"Evaluate polynomial function\"\"\"\n",
        "    return x**5 / 10 + x**3 - 10 * x**2 + 4 * x + 7\n",
        "\n",
        "def compute_root(f, x0, x1, tol, max_it, it_count=0):\n",
        "    x_mid = (x0 + x1) / 2\n",
        "    f_mid = f(x_mid)\n",
        "\n",
        "    if abs(f_mid) <= tol or it_count >= max_it:\n",
        "        return x_mid, f_mid, it_count  # Base case: tolerance or max iterations reached\n",
        "\n",
        "    it_count += 1\n",
        "\n",
        "    if f(x0) * f_mid < 0:\n",
        "        return compute_root(f, x0, x_mid, tol, max_it, it_count) # Recursive call\n",
        "    else:\n",
        "        return compute_root(f, x_mid, x1, tol, max_it, it_count) # Recursive call\n",
        "\n",
        "## tests ##\n",
        "# Test with my_f (from Exercise 02)\n",
        "x, f, num_it = compute_root(my_f, x0=0, x1=2, tol=1.0e-6, max_it=1000)\n",
        "assert math.isclose(x, 1.1568354368209839)\n",
        "print(\"Approximate root for my_f:\", x)\n",
        "\n",
        "# Test with f(x) = x - 4 (root should be 4)\n",
        "def f1(x):\n",
        "    return x - 4\n",
        "x, f, num_it = compute_root(f1, x0=3, x1=5, tol=1.0e-6, max_it=1000)\n",
        "assert math.isclose(x, 4)\n",
        "print(\"Approximate root for f1(x):\", x)"
      ]
    }
  ],
  "metadata": {
    "celltoolbar": "Create Assignment",
    "colab": {
      "provenance": [],
      "include_colab_link": true
    },
    "kernelspec": {
      "display_name": "Python 3 (ipykernel)",
      "language": "python",
      "name": "python3"
    },
    "language_info": {
      "codemirror_mode": {
        "name": "ipython",
        "version": 3
      },
      "file_extension": ".py",
      "mimetype": "text/x-python",
      "name": "python",
      "nbconvert_exporter": "python",
      "pygments_lexer": "ipython3",
      "version": "3.10.6"
    },
    "otter": {
      "OK_FORMAT": true,
      "assignment_name": "Exercises 4",
      "tests": {}
    }
  },
  "nbformat": 4,
  "nbformat_minor": 0
}
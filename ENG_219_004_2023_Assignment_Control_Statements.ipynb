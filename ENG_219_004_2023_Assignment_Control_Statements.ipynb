{
  "cells": [
    {
      "cell_type": "markdown",
      "metadata": {
        "id": "view-in-github",
        "colab_type": "text"
      },
      "source": [
        "<a href=\"https://colab.research.google.com/github/OptimizedVisuals/ENG-219-004-2023/blob/main/ENG_219_004_2023_Assignment_Control_Statements.ipynb\" target=\"_parent\"><img src=\"https://colab.research.google.com/assets/colab-badge.svg\" alt=\"Open In Colab\"/></a>"
      ]
    },
    {
      "cell_type": "markdown",
      "metadata": {
        "id": "DoHBGO7RNWyd"
      },
      "source": [
        "## Exercise 02.1 (if-else)\n",
        "\n",
        "Consider the following assessment criteria which map a score out of 100 to an\n",
        "assessment grade:\n",
        "\n",
        "| Grade            | Raw score  (/100)      |\n",
        "| ---------------- | ---------------------- |\n",
        "| Excellent        | $\\ge 85$               |\n",
        "| Very good        | $\\ge 76.5$ and $< 85$  |\n",
        "| Good             | $\\ge 64$ and $< 76.5$  |\n",
        "| Need improvement | $\\ge 40$ and $< 64$    |\n",
        "| Did you try?     | $< 40$                 |\n",
        "\n",
        "Write a program that, given an a score, prints the appropriate grade. Print an error message if the input score is greater than 100 or less than zero."
      ]
    },
    {
      "cell_type": "code",
      "execution_count": null,
      "metadata": {
        "nbgrader": {
          "grade": false,
          "grade_id": "cell-71121f470be22e4a",
          "locked": false,
          "schema_version": 3,
          "solution": true
        },
        "tags": [],
        "id": "4Dpv1Ep5NWyg",
        "colab": {
          "base_uri": "https://localhost:8080/"
        },
        "outputId": "aaf33f2c-494c-4b22-d924-995cfc73b150"
      },
      "outputs": [
        {
          "output_type": "stream",
          "name": "stdout",
          "text": [
            "Enter the score: 72\n",
            "Good\n"
          ]
        },
        {
          "output_type": "execute_result",
          "data": {
            "text/plain": [
              "Ellipsis"
            ]
          },
          "metadata": {},
          "execution_count": 1
        }
      ],
      "source": [
        "# Score from user\n",
        "#score = 72\n",
        "score = float(input(\"Enter the score: \"))\n",
        "\n",
        "if score > 100 or score < 0:\n",
        "    print(\"Error: Score must be between 0 and 100.\")\n",
        "elif score >= 85:\n",
        "    print(\"Excellent\")\n",
        "elif score >= 76.5:\n",
        "    print(\"Very good\")\n",
        "elif score >= 64:\n",
        "    print(\"Good\")\n",
        "elif score >= 40:\n",
        "    print(\"Need improvement\")\n",
        "else:\n",
        "    print(\"Did you try?\")\n",
        "..."
      ]
    },
    {
      "cell_type": "markdown",
      "metadata": {
        "id": "qGF-xbCDNWyi"
      },
      "source": [
        "## Exercise 02.2 (bisection)\n",
        "\n",
        "Bisection is an iterative method for finding approximate roots of a function. Say we know that the function $f(x)$ has one root between $x_{0}$ and $x_{1}$ ($x_{0} < x_{1}$). We then:\n",
        "\n",
        "- Evaluate $f$ at the midpoint $x_{\\rm mid} = (x_0 + x_1)/2$, i.e. compute\n",
        "   $f_{\\rm mid} = f(x_{\\rm mid})$\n",
        "- Evaluate $f(x_0) \\cdot f(x_{\\rm mid})$\n",
        "\n",
        "  - if $f(x_0) \\cdot f(x_{\\rm mid}) < 0$:\n",
        "\n",
        "    $f$ must change sign somewhere between $x_0$ and $x_{\\rm mid}$, hence the root must lie between\n",
        "    $x_0$ and $x_{\\rm mid}$, so set $x_1 = x_{\\rm mid}$.\n",
        "   \n",
        "  - else:\n",
        "\n",
        "    $f$ must change sign somewhere between $x_{\\rm mid}$ and $x_1$, so set\n",
        "    $x_0 = x_{\\rm mid}$.\n",
        "\n",
        "The above steps can be repeated a specified number of times, or until $|f_{\\rm mid}|$\n",
        "is below a tolerance, with $x_{\\rm mid}$ being the approximate root.\n",
        "\n",
        "\n",
        "### Task\n",
        "\n",
        "The function\n",
        "\n",
        "$$\n",
        "f(x) = \\frac{x^{5}}{10} + x^3 - 10x^2 + 4x + 7\n",
        "$$\n",
        "\n",
        "\n",
        "has one root in the range $0 < x < 2$.\n",
        "\n",
        "1. Use the bisection method to find an approximate root $x_{r}$ using 20 iterations\n",
        "   (use a `for` loop).\n",
        "2. Use the bisection method to find an approximate root $x_{r}$ such that\n",
        "   $\\left| f(x_{r}) \\right| < 1 \\times 10^{-6}$ and report the number of iterations\n",
        "   required (use a `while` loop).\n",
        "\n",
        "Store the approximate root using the variable `x_mid`, and store $f(x_{\\rm mid})$ using the variable `f`.\n",
        "\n",
        "*Hint:* Use  `abs` to compute the absolute value of a number, e.g. `y = abs(x)` assigns the absolute value of `x` to `y`."
      ]
    },
    {
      "cell_type": "markdown",
      "metadata": {
        "id": "5nHPrqQENWyi"
      },
      "source": [
        "#### (1) Using a `for` loop."
      ]
    },
    {
      "cell_type": "code",
      "source": [
        "# Initial end points\n",
        "x0 = 0.0\n",
        "x1 = 2.0\n",
        "\n",
        "# Use 20 iterations\n",
        "for n in range(20):\n",
        "    # Compute midpoint\n",
        "    x_mid = (x0 + x1) / 2\n",
        "\n",
        "    # Evaluate function at (i) left end-point and at (ii) midpoint\n",
        "    f0 = (x0**5) / 10 + x0**3 - 10 * x0**2 + 4 * x0 + 7\n",
        "    f = (x_mid**5) / 10 + x_mid**3 - 10 * x_mid**2 + 4 * x_mid + 7\n",
        "\n",
        "    # Update interval\n",
        "    if f0 * f < 0:\n",
        "        x1 = x_mid\n",
        "    else:\n",
        "        x0 = x_mid\n",
        "print(\"Approximate root (x_mid):\", x_mid)\n",
        "print(\"Function value at root (f):\", f)\n"
      ],
      "metadata": {
        "colab": {
          "base_uri": "https://localhost:8080/"
        },
        "id": "EdyreJtH0hQC",
        "outputId": "c5d58b5c-2f6a-4e6b-ac3a-4b47e065b0f2"
      },
      "execution_count": null,
      "outputs": [
        {
          "output_type": "stream",
          "name": "stdout",
          "text": [
            "Approximate root (x_mid): 1.1568355560302734\n",
            "Function value at root (f): -1.304116775457942e-06\n"
          ]
        }
      ]
    },
    {
      "cell_type": "code",
      "execution_count": null,
      "metadata": {
        "nbgrader": {
          "grade": true,
          "grade_id": "cell-421824bbd4e61fae",
          "locked": true,
          "points": 0,
          "schema_version": 3,
          "solution": false
        },
        "id": "Aud31k6dNWyj",
        "colab": {
          "base_uri": "https://localhost:8080/"
        },
        "outputId": "13eb8c42-4057-4efd-c29d-f181c29ae148"
      },
      "outputs": [
        {
          "output_type": "stream",
          "name": "stdout",
          "text": [
            "Approximate root (x_mid): 1.1568355560302734\n",
            "Function value at root (f): -1.304116775457942e-06\n"
          ]
        }
      ],
      "source": [
        "## tests ##\n",
        "# Initial end points\n",
        "x0 = 0.0\n",
        "x1 = 2.0\n",
        "\n",
        "# Use 20 iterations\n",
        "for n in range(20):\n",
        "    # Compute midpoint\n",
        "    x_mid = (x0 + x1) / 2\n",
        "\n",
        "    # Evaluate function at (i) left end-point and at (ii) midpoint\n",
        "    f0 = (x0**5) / 10 + x0**3 - 10 * x0**2 + 4 * x0 + 7\n",
        "    f = (x_mid**5) / 10 + x_mid**3 - 10 * x_mid**2 + 4 * x_mid + 7\n",
        "\n",
        "    # Update interval\n",
        "    if f0 * f < 0:\n",
        "        x1 = x_mid\n",
        "    else:\n",
        "        x0 = x_mid\n",
        "import math\n",
        "assert math.isclose(x_mid, 1.1568355560302734)\n",
        "assert abs(f) < 1e-5\n",
        "\n",
        "print(\"Approximate root (x_mid):\", x_mid)\n",
        "print(\"Function value at root (f):\", f)"
      ]
    },
    {
      "cell_type": "markdown",
      "metadata": {
        "id": "YhWCVhvINWyj"
      },
      "source": [
        "#### (2) Using a `while` loop\n",
        "\n",
        "Use the variable `counter` for the iteration number.\n",
        "\n",
        "*Remember to guard against infinite loops.*"
      ]
    },
    {
      "cell_type": "code",
      "source": [
        "# Initial end points\n",
        "x0 = 0.0\n",
        "x1 = 2.0\n",
        "\n",
        "tol = 1.0e-6  # Tolerance\n",
        "error = tol + 1.0  # Initial error (larger than tolerance)\n",
        "\n",
        "# Iterate until tolerance is met\n",
        "counter = 0\n",
        "while error > tol:\n",
        "    # Compute midpoint\n",
        "    x_mid = (x0 + x1) / 2\n",
        "\n",
        "    # Evaluate function at (i) left end-point and at (ii) midpoint\n",
        "    f0 = (x0**5) / 10 + x0**3 - 10 * x0**2 + 4 * x0 + 7\n",
        "    f = (x_mid**5) / 10 + x_mid**3 - 10 * x_mid**2 + 4 * x_mid + 7\n",
        "\n",
        "    # Update interval\n",
        "    if f0 * f < 0:\n",
        "        x1 = x_mid\n",
        "    else:\n",
        "        x0 = x_mid\n",
        "\n",
        "    # Calculate error (absolute value of function at midpoint)\n",
        "    error = abs(f)  # <--- Moved inside the conditional block\n",
        "\n",
        "    # Increment counter\n",
        "    counter += 1\n",
        "\n",
        "    # Guard against infinite loop (optional but recommended)\n",
        "    if counter > 1000:\n",
        "        print(\"Oops, iteration count is very large. Breaking out of while loop.\")\n",
        "        break\n",
        "\n",
        "\n",
        "print(\"Approximate root (x_mid):\", x_mid)\n",
        "print(\"Function value at root (f):\", f)\n",
        "print(\"Number of iterations:\", counter)\n"
      ],
      "metadata": {
        "colab": {
          "base_uri": "https://localhost:8080/"
        },
        "id": "9u7hBYo02SXi",
        "outputId": "4e2fd6f8-3542-44be-d572-dd1b28b289c7"
      },
      "execution_count": null,
      "outputs": [
        {
          "output_type": "stream",
          "name": "stdout",
          "text": [
            "Approximate root (x_mid): 1.1568354368209839\n",
            "Function value at root (f): 3.9180508970559913e-07\n",
            "Number of iterations: 24\n"
          ]
        }
      ]
    },
    {
      "cell_type": "code",
      "execution_count": null,
      "metadata": {
        "nbgrader": {
          "grade": true,
          "grade_id": "cell-ddff32f44df88388",
          "locked": true,
          "points": 0,
          "schema_version": 3,
          "solution": false
        },
        "tags": [],
        "id": "829g6ktYNWyk",
        "colab": {
          "base_uri": "https://localhost:8080/"
        },
        "outputId": "277162a0-fe7e-460a-b7ae-cd32a9098e6d"
      },
      "outputs": [
        {
          "output_type": "stream",
          "name": "stdout",
          "text": [
            "Approximate root (x_mid): 1.1568354368209839\n",
            "Function value at root (f): 3.9180508970559913e-07\n",
            "Number of iterations: 24\n"
          ]
        }
      ],
      "source": [
        "## tests ##\n",
        "# Initial end points\n",
        "x0 = 0.0\n",
        "x1 = 2.0\n",
        "\n",
        "tol = 1.0e-6  # Tolerance\n",
        "error = tol + 1.0  # Initial error (larger than tolerance)\n",
        "\n",
        "# Iterate until tolerance is met\n",
        "counter = 0\n",
        "while error > tol:\n",
        "    # Compute midpoint\n",
        "    x_mid = (x0 + x1) / 2\n",
        "\n",
        "    # Evaluate function at (i) left end-point and at (ii) midpoint\n",
        "    f0 = (x0**5) / 10 + x0**3 - 10 * x0**2 + 4 * x0 + 7\n",
        "    f = (x_mid**5) / 10 + x_mid**3 - 10 * x_mid**2 + 4 * x_mid + 7\n",
        "\n",
        "    # Update interval\n",
        "    if f0 * f < 0:\n",
        "        x1 = x_mid\n",
        "    else:\n",
        "        x0 = x_mid\n",
        "\n",
        "    # Calculate error (absolute value of function at midpoint)\n",
        "    error = abs(f)  # <--- Moved inside the conditional block\n",
        "\n",
        "    # Increment counter\n",
        "    counter += 1\n",
        "\n",
        "    # Guard against infinite loop (optional but recommended)\n",
        "    if counter > 1000:\n",
        "        print(\"Oops, iteration count is very large. Breaking out of while loop.\")\n",
        "        break\n",
        "assert counter == 24\n",
        "assert abs(f) < 1.0e-6\n",
        "\n",
        "print(\"Approximate root (x_mid):\", x_mid)\n",
        "print(\"Function value at root (f):\", f)\n",
        "print(\"Number of iterations:\", counter)"
      ]
    },
    {
      "cell_type": "markdown",
      "metadata": {
        "id": "HIlQc4FJNWyk"
      },
      "source": [
        "## Exercise 02.3 (series expansion)\n",
        "\n",
        "For $|x| < 1$ the series:\n",
        "\n",
        "$$\n",
        "(1 + x)^{-1/2} = \\sum_{n = 0}^{\\infty} \\frac{(-1)^n (2n)!}{4^n (n!)^2} x^n\n",
        "$$\n",
        "\n",
        "converges.\n",
        "\n",
        "1. Using a `for` statement, approximate $1/\\sqrt{0.16}$ using 30 terms in the series expansion and report the absolute error.\n",
        "\n",
        "1. Using a `while` statement, compute how many terms in the series are required to approximate $1/\\sqrt{0.16}$ to within $1 \\times 10^{-5}$.\n",
        "\n",
        "Store the absolute value of the error in the variable `error`.\n",
        "\n",
        "### Hints\n",
        "\n",
        "To compute the factorial, use the Python `math` module:\n",
        "```python\n",
        "import math\n",
        "nfact = math.factorial(10)\n",
        "```\n",
        "You only need `import math` once at the top of your program. Standard modules, like `math`, will be explained in a later\n",
        "\n",
        "<!-- The power series expansion for the sine function is:\n",
        "\n",
        "$$\n",
        "\\sin(x) = \\sum_{n = 0}^{\\infty} (-1)^n \\frac{x^{2n +1}}{(2n+1)!}\n",
        "$$\n",
        "\n",
        "(See mathematics data book for a less compact version; this compact version is preferred here as it is simpler to program.)\n",
        "\n",
        "1. Using a `for` statement, approximate $\\sin(3\\pi/2)$ using 15 terms in the series expansion and report the absolute error.\n",
        "\n",
        "1. Using a `while` statement, compute how many terms in the series are required to approximate $\\sin(3\\pi/2)$ to within $1 \\times 10^{-8}$.\n",
        "\n",
        "Store the absolute value of the error in the variable `error`.\n",
        "\n",
        "*Note:* Calculators and computers use iterative or series expansions to compute trigonometric functions, similar to the one above (although they use more efficient formulations than the above series).\n",
        "\n",
        "### Hints\n",
        "\n",
        "To compute the factorial and to get a good approximation of $\\pi$, use the Python `math` module:\n",
        "```python\n",
        "import math\n",
        "nfact = math.factorial(10)\n",
        "pi = math.pi\n",
        "```\n",
        "You only need '`import math`' once at the top of your program. Standard modules, like `math`, will be explained in a later. If you want to test for angles for which sine is not simple, you can use\n",
        "```python\n",
        "a = 1.3\n",
        "s = math.sin(a)\n",
        "```    \n",
        "to get an accurate computation of sine to check the error. -->"
      ]
    },
    {
      "cell_type": "markdown",
      "metadata": {
        "id": "LEQimS1LNWyk"
      },
      "source": [
        "#### (1) Using a `for` loop"
      ]
    },
    {
      "cell_type": "code",
      "execution_count": null,
      "metadata": {
        "nbgrader": {
          "grade": false,
          "grade_id": "cell-d6df4b428f969a5d",
          "locked": false,
          "schema_version": 3,
          "solution": true
        },
        "tags": [],
        "id": "VuyxLhMCNWyk",
        "colab": {
          "base_uri": "https://localhost:8080/"
        },
        "outputId": "2fbb77a1-5155-4792-e33d-a942f0f9360f"
      },
      "outputs": [
        {
          "output_type": "stream",
          "name": "stdout",
          "text": [
            "The error is:\n",
            "0.0031921895736983785\n"
          ]
        }
      ],
      "source": [
        "# Import the math module to access math.factorial\n",
        "import math\n",
        "\n",
        "# Value of x (such that (1 + x) = 0.16\n",
        "x = -0.84\n",
        "\n",
        "# Initialise approximation of the function\n",
        "approx_f = 0.0\n",
        "\n",
        "# Loop over the first 30 terms in the series\n",
        "for n in range(30):\n",
        "    # Calculate the nth term in the series\n",
        "    term = (((-1)**n) * math.factorial(2 * n)) / \\\n",
        "           ((4**n) * (math.factorial(n)**2)) * (x**n)\n",
        "\n",
        "    # Add the nth term to the approximation\n",
        "    approx_f += term\n",
        "\n",
        "# Calculate the absolute error\n",
        "error = abs(approx_f - (1 / math.sqrt(0.16)))\n",
        "\n",
        "print(\"The error is:\")\n",
        "print(error)"
      ]
    },
    {
      "cell_type": "code",
      "execution_count": null,
      "metadata": {
        "nbgrader": {
          "grade": true,
          "grade_id": "cell-8b269b717e92414d",
          "locked": true,
          "points": 0,
          "schema_version": 3,
          "solution": false
        },
        "id": "heUrD66iNWyl",
        "colab": {
          "base_uri": "https://localhost:8080/"
        },
        "outputId": "995dca4a-b0cb-4e6c-d272-5477b47ffe28"
      },
      "outputs": [
        {
          "output_type": "stream",
          "name": "stdout",
          "text": [
            "The error is:\n",
            "0.0031921895736983785\n"
          ]
        }
      ],
      "source": [
        "## test ##\n",
        "# Import the math module to access math.factorial\n",
        "import math\n",
        "\n",
        "# Value of x (such that (1 + x) = 0.16\n",
        "x = -0.84\n",
        "\n",
        "# Initialise approximation of the function\n",
        "approx_f = 0.0\n",
        "\n",
        "# Loop over the first 30 terms in the series\n",
        "for n in range(30):\n",
        "    # Calculate the nth term in the series\n",
        "    term = (((-1)**n) * math.factorial(2 * n)) / \\\n",
        "           ((4**n) * (math.factorial(n)**2)) * (x**n)\n",
        "\n",
        "    # Add the nth term to the approximation\n",
        "    approx_f += term\n",
        "\n",
        "# Calculate the absolute error\n",
        "error = abs(approx_f - (1 / math.sqrt(0.16)))\n",
        "assert error < 1.0e-2\n",
        "print(\"The error is:\")\n",
        "print(error)"
      ]
    },
    {
      "cell_type": "markdown",
      "metadata": {
        "id": "TPjAqO24NWyl"
      },
      "source": [
        "#### (2) Using a `while` loop\n",
        "\n",
        "*Remember to guard against infinite loops.*"
      ]
    },
    {
      "cell_type": "code",
      "execution_count": null,
      "metadata": {
        "nbgrader": {
          "grade": false,
          "grade_id": "cell-03df25d83df3674e",
          "locked": false,
          "schema_version": 3,
          "solution": true
        },
        "tags": [],
        "id": "f94WVO2TNWyl",
        "colab": {
          "base_uri": "https://localhost:8080/"
        },
        "outputId": "d9614ccc-6b0f-49b9-f0b2-9de646cd3b76"
      },
      "outputs": [
        {
          "output_type": "stream",
          "name": "stdout",
          "text": [
            "\n",
            "The error is: 8.689878570500298e-06\n",
            "Number of terms in series: 62\n"
          ]
        }
      ],
      "source": [
        "# Import the math module to access math.sin and math.factorial\n",
        "import math\n",
        "\n",
        "# Value of x (such that (1 - x) = 0.16)\n",
        "x = -0.84\n",
        "\n",
        "# Tolerance and initial error (this just needs to be larger than tol)\n",
        "tol = 1.0e-5\n",
        "error = tol + 1.0\n",
        "\n",
        "# Initialise approximation of function\n",
        "approx_f = 0.0\n",
        "\n",
        "# Initialise counter\n",
        "n = 0\n",
        "\n",
        "# Loop until error satisfies tolerance, with a check to avoid\n",
        "# an infinite loop\n",
        "while error > tol and n < 1000:\n",
        "    # Calculate the nth term in the series\n",
        "    term = (((-1)**n) * math.factorial(2 * n)) / \\\n",
        "           ((4**n) * (math.factorial(n)**2)) * (x**n)\n",
        "\n",
        "    # Add the nth term to the approximation\n",
        "    approx_f += term\n",
        "\n",
        "    # Calculate error (absolute value of difference)\n",
        "    error = abs(approx_f - (1 / math.sqrt(0.16)))\n",
        "\n",
        "    # Increment counter\n",
        "    n += 1\n",
        "\n",
        "\n",
        "print(\"\\nThe error is:\", error)\n",
        "print(\"Number of terms in series:\", n)"
      ]
    },
    {
      "cell_type": "code",
      "execution_count": null,
      "metadata": {
        "nbgrader": {
          "grade": true,
          "grade_id": "cell-03df25d83df3674dfwe",
          "locked": true,
          "points": 0,
          "schema_version": 3,
          "solution": false
        },
        "id": "sMVDt0J0NWyl",
        "colab": {
          "base_uri": "https://localhost:8080/"
        },
        "outputId": "40aa4dea-c807-4bc5-fdcf-90debf8bfcdf"
      },
      "outputs": [
        {
          "output_type": "stream",
          "name": "stdout",
          "text": [
            "\n",
            "The error is: 8.689878570500298e-06\n",
            "Number of terms in series: 62\n"
          ]
        }
      ],
      "source": [
        "## test ##\n",
        "# Import the math module to access math.sin and math.factorial\n",
        "import math\n",
        "\n",
        "# Value of x (such that (1 - x) = 0.16)\n",
        "x = -0.84\n",
        "\n",
        "# Tolerance and initial error (this just needs to be larger than tol)\n",
        "tol = 1.0e-5\n",
        "error = tol + 1.0\n",
        "\n",
        "# Initialise approximation of function\n",
        "approx_f = 0.0\n",
        "\n",
        "# Initialise counter\n",
        "n = 0\n",
        "\n",
        "# Loop until error satisfies tolerance, with a check to avoid\n",
        "# an infinite loop\n",
        "while error > tol and n < 1000:\n",
        "    # Calculate the nth term in the series\n",
        "    term = (((-1)**n) * math.factorial(2 * n)) / \\\n",
        "           ((4**n) * (math.factorial(n)**2)) * (x**n)\n",
        "\n",
        "    # Add the nth term to the approximation\n",
        "    approx_f += term\n",
        "\n",
        "    # Calculate error (absolute value of difference)\n",
        "    error = abs(approx_f - (1 / math.sqrt(0.16)))\n",
        "\n",
        "    # Increment counter\n",
        "    n += 1\n",
        "\n",
        "assert error <= 1.0e-5\n",
        "\n",
        "print(\"\\nThe error is:\", error)\n",
        "print(\"Number of terms in series:\", n)"
      ]
    }
  ],
  "metadata": {
    "celltoolbar": "Create Assignment",
    "kernelspec": {
      "display_name": "Python 3 (ipykernel)",
      "language": "python",
      "name": "python3"
    },
    "language_info": {
      "codemirror_mode": {
        "name": "ipython",
        "version": 3
      },
      "file_extension": ".py",
      "mimetype": "text/x-python",
      "name": "python",
      "nbconvert_exporter": "python",
      "pygments_lexer": "ipython3",
      "version": "3.10.6"
    },
    "otter": {
      "OK_FORMAT": true,
      "assignment_name": "Exercises 2",
      "tests": {}
    },
    "colab": {
      "provenance": [],
      "include_colab_link": true
    }
  },
  "nbformat": 4,
  "nbformat_minor": 0
}
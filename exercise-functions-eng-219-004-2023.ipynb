{
 "cells": [
  {
   "cell_type": "markdown",
   "id": "34d60323",
   "metadata": {
    "papermill": {
     "duration": 0.007265,
     "end_time": "2025-02-25T19:42:35.005134",
     "exception": false,
     "start_time": "2025-02-25T19:42:34.997869",
     "status": "completed"
    },
    "tags": []
   },
   "source": [
    "**This notebook is an exercise in the [Intro to Programming](https://www.kaggle.com/learn/intro-to-programming) course.  You can reference the tutorial at [this link](https://www.kaggle.com/alexisbcook/functions).**\n",
    "\n",
    "---\n"
   ]
  },
  {
   "cell_type": "markdown",
   "id": "2758eaad",
   "metadata": {
    "papermill": {
     "duration": 0.004704,
     "end_time": "2025-02-25T19:42:35.015439",
     "exception": false,
     "start_time": "2025-02-25T19:42:35.010735",
     "status": "completed"
    },
    "tags": []
   },
   "source": [
    "In the tutorial, you learned about functions. In this exercise, you'll write some of your own!\n",
    "\n",
    "# Set up the notebook\n",
    "\n",
    "Run the next code cell without changes to set up the notebook."
   ]
  },
  {
   "cell_type": "code",
   "execution_count": 1,
   "id": "1cc167cd",
   "metadata": {
    "execution": {
     "iopub.execute_input": "2025-02-25T19:42:35.027492Z",
     "iopub.status.busy": "2025-02-25T19:42:35.026954Z",
     "iopub.status.idle": "2025-02-25T19:42:36.249633Z",
     "shell.execute_reply": "2025-02-25T19:42:36.248513Z"
    },
    "papermill": {
     "duration": 1.231122,
     "end_time": "2025-02-25T19:42:36.251532",
     "exception": false,
     "start_time": "2025-02-25T19:42:35.020410",
     "status": "completed"
    },
    "tags": []
   },
   "outputs": [
    {
     "name": "stdout",
     "output_type": "stream",
     "text": [
      "Setup complete.\n"
     ]
    }
   ],
   "source": [
    "# Set up the exercise\n",
    "import math\n",
    "from learntools.core import binder\n",
    "binder.bind(globals())\n",
    "from learntools.intro_to_programming.ex2 import *\n",
    "print('Setup complete.')"
   ]
  },
  {
   "cell_type": "markdown",
   "id": "dbab1771",
   "metadata": {
    "papermill": {
     "duration": 0.004702,
     "end_time": "2025-02-25T19:42:36.261749",
     "exception": false,
     "start_time": "2025-02-25T19:42:36.257047",
     "status": "completed"
    },
    "tags": []
   },
   "source": [
    "# Question 1\n",
    "\n",
    "In the [House Prices - Advanced Regression Techniques competition](https://www.kaggle.com/c/house-prices-advanced-regression-techniques/overview), you need to use information like the number of bedrooms and bathrooms to predict the price of a house.  Inspired by this competition, you'll write your own function to do this.\n",
    "\n",
    "In the next code cell, create a function `get_expected_cost()` that has two arguments:\n",
    "- `beds` - number of bedrooms \n",
    "- `baths` - number of bathrooms\n",
    "\n",
    "It should return the expected cost of a house with that number of bedrooms and bathrooms.  Assume that:\n",
    "- the expected cost for a house with 0 bedrooms and 0 bathrooms is `80000`.  \n",
    "- each bedroom adds `30000` to the expected cost\n",
    "- each bathroom adds `10000` to the expected cost.\n",
    "\n",
    "For instance, \n",
    "- a house with 1 bedroom and 1 bathroom has an expected cost of `120000`, and \n",
    "- a house with 2 bedrooms and 1 bathroom has an expected cost of `150000`."
   ]
  },
  {
   "cell_type": "code",
   "execution_count": 2,
   "id": "763cd372",
   "metadata": {
    "execution": {
     "iopub.execute_input": "2025-02-25T19:42:36.273278Z",
     "iopub.status.busy": "2025-02-25T19:42:36.272731Z",
     "iopub.status.idle": "2025-02-25T19:42:36.282373Z",
     "shell.execute_reply": "2025-02-25T19:42:36.281430Z"
    },
    "papermill": {
     "duration": 0.017453,
     "end_time": "2025-02-25T19:42:36.284178",
     "exception": false,
     "start_time": "2025-02-25T19:42:36.266725",
     "status": "completed"
    },
    "tags": []
   },
   "outputs": [
    {
     "data": {
      "application/javascript": [
       "parent.postMessage({\"jupyterEvent\": \"custom.exercise_interaction\", \"data\": {\"outcomeType\": 1, \"valueTowardsCompletion\": 0.2, \"interactionType\": 1, \"questionType\": 2, \"questionId\": \"1_GetExpectedCost\", \"learnToolsVersion\": \"0.3.4\", \"failureMessage\": \"\", \"exceptionClass\": \"\", \"trace\": \"\"}}, \"*\")"
      ],
      "text/plain": [
       "<IPython.core.display.Javascript object>"
      ]
     },
     "metadata": {},
     "output_type": "display_data"
    },
    {
     "data": {
      "text/markdown": [
       "<span style=\"color:#33cc33\">Correct</span>"
      ],
      "text/plain": [
       "Correct"
      ]
     },
     "metadata": {},
     "output_type": "display_data"
    }
   ],
   "source": [
    "# TODO: Complete the function\n",
    "def get_expected_cost(beds, baths):\n",
    "    value = 80000 + 30000 * beds + 10000 * baths\n",
    "    return value\n",
    "\n",
    "# Check your answer \n",
    "q1.check()"
   ]
  },
  {
   "cell_type": "code",
   "execution_count": 3,
   "id": "10e35834",
   "metadata": {
    "execution": {
     "iopub.execute_input": "2025-02-25T19:42:36.296379Z",
     "iopub.status.busy": "2025-02-25T19:42:36.295998Z",
     "iopub.status.idle": "2025-02-25T19:42:36.299954Z",
     "shell.execute_reply": "2025-02-25T19:42:36.298828Z"
    },
    "papermill": {
     "duration": 0.012091,
     "end_time": "2025-02-25T19:42:36.301865",
     "exception": false,
     "start_time": "2025-02-25T19:42:36.289774",
     "status": "completed"
    },
    "tags": []
   },
   "outputs": [],
   "source": [
    "# Uncomment to see a hint\n",
    "#q1.hint()\n",
    "\n",
    "# Uncomment to view the solution\n",
    "#q1.solution()"
   ]
  },
  {
   "cell_type": "markdown",
   "id": "bd3f9b82",
   "metadata": {
    "papermill": {
     "duration": 0.004989,
     "end_time": "2025-02-25T19:42:36.312413",
     "exception": false,
     "start_time": "2025-02-25T19:42:36.307424",
     "status": "completed"
    },
    "tags": []
   },
   "source": [
    "# Question 2\n",
    "\n",
    "You are thinking about buying a home and want to get an idea of how much you will spend, based on the number of bedrooms and bathrooms.  You are trying to decide between four different options:\n",
    "- Option 1: house with two bedrooms and three bathrooms\n",
    "- Option 2: house with three bedrooms and two bathrooms\n",
    "- Option 3: house with three bedrooms and three bathrooms\n",
    "- Option 4: house with three bedrooms and four bathrooms\n",
    "\n",
    "Use the `get_expected_cost()` function you defined in question 1 to set `option_1`, `option_2`, `option_3`, and `option_4` to the expected cost of each option."
   ]
  },
  {
   "cell_type": "code",
   "execution_count": 4,
   "id": "31a1466c",
   "metadata": {
    "execution": {
     "iopub.execute_input": "2025-02-25T19:42:36.325061Z",
     "iopub.status.busy": "2025-02-25T19:42:36.324632Z",
     "iopub.status.idle": "2025-02-25T19:42:36.335260Z",
     "shell.execute_reply": "2025-02-25T19:42:36.334116Z"
    },
    "papermill": {
     "duration": 0.018983,
     "end_time": "2025-02-25T19:42:36.337127",
     "exception": false,
     "start_time": "2025-02-25T19:42:36.318144",
     "status": "completed"
    },
    "tags": []
   },
   "outputs": [
    {
     "name": "stdout",
     "output_type": "stream",
     "text": [
      "170000\n",
      "190000\n",
      "200000\n",
      "210000\n"
     ]
    },
    {
     "data": {
      "application/javascript": [
       "parent.postMessage({\"jupyterEvent\": \"custom.exercise_interaction\", \"data\": {\"outcomeType\": 1, \"valueTowardsCompletion\": 0.2, \"interactionType\": 1, \"questionType\": 1, \"questionId\": \"2_RunGetExpectedCost\", \"learnToolsVersion\": \"0.3.4\", \"failureMessage\": \"\", \"exceptionClass\": \"\", \"trace\": \"\"}}, \"*\")"
      ],
      "text/plain": [
       "<IPython.core.display.Javascript object>"
      ]
     },
     "metadata": {},
     "output_type": "display_data"
    },
    {
     "data": {
      "text/markdown": [
       "<span style=\"color:#33cc33\">Correct</span>"
      ],
      "text/plain": [
       "Correct"
      ]
     },
     "metadata": {},
     "output_type": "display_data"
    }
   ],
   "source": [
    "# TODO: Use the get_expected_cost function to fill in each value\n",
    "option_one = get_expected_cost(2, 3)\n",
    "option_two = get_expected_cost(3, 2)\n",
    "option_three = get_expected_cost(3, 3)\n",
    "option_four = get_expected_cost(3, 4)\n",
    "\n",
    "print(option_one)\n",
    "print(option_two)\n",
    "print(option_three)\n",
    "print(option_four)\n",
    "\n",
    "# Check your answer\n",
    "q2.check()"
   ]
  },
  {
   "cell_type": "code",
   "execution_count": 5,
   "id": "4df01495",
   "metadata": {
    "execution": {
     "iopub.execute_input": "2025-02-25T19:42:36.349704Z",
     "iopub.status.busy": "2025-02-25T19:42:36.349366Z",
     "iopub.status.idle": "2025-02-25T19:42:36.353669Z",
     "shell.execute_reply": "2025-02-25T19:42:36.352309Z"
    },
    "papermill": {
     "duration": 0.012886,
     "end_time": "2025-02-25T19:42:36.355757",
     "exception": false,
     "start_time": "2025-02-25T19:42:36.342871",
     "status": "completed"
    },
    "tags": []
   },
   "outputs": [],
   "source": [
    "# Uncomment to see a hint\n",
    "#q2.hint()\n",
    "\n",
    "# Uncomment to view the solution\n",
    "#q2.solution()"
   ]
  },
  {
   "cell_type": "markdown",
   "id": "af0d39eb",
   "metadata": {
    "papermill": {
     "duration": 0.00519,
     "end_time": "2025-02-25T19:42:36.366846",
     "exception": false,
     "start_time": "2025-02-25T19:42:36.361656",
     "status": "completed"
    },
    "tags": []
   },
   "source": [
    "# Question 3\n",
    "\n",
    "You're a home decorator, and you'd like to use Python to streamline some of your work.  Specifically, you're creating a tool that you intend to use to calculate the cost of painting a room.\n",
    "\n",
    "As a first step, define a function `get_cost()` that takes as input:\n",
    "- `sqft_walls` = total square feet of walls to be painted\n",
    "- `sqft_ceiling` = square feet of ceiling to be painted\n",
    "- `sqft_per_gallon` = number of square feet that you can cover with one gallon of paint\n",
    "- `cost_per_gallon` = cost (in dollars) of one gallon of paint\n",
    "\n",
    "It should return the cost (in dollars) of putting one coat of paint on all walls and the ceiling.  Assume you can buy the exact amount of paint that you need, so you can buy partial gallons (e.g., if you need 7.523 gallons, you can buy that exact amount, instead of needing to buy 8 gallons and waste some paint).  Do not round your answer."
   ]
  },
  {
   "cell_type": "code",
   "execution_count": 6,
   "id": "e7885506",
   "metadata": {
    "execution": {
     "iopub.execute_input": "2025-02-25T19:42:36.379176Z",
     "iopub.status.busy": "2025-02-25T19:42:36.378747Z",
     "iopub.status.idle": "2025-02-25T19:42:36.387156Z",
     "shell.execute_reply": "2025-02-25T19:42:36.386069Z"
    },
    "papermill": {
     "duration": 0.016466,
     "end_time": "2025-02-25T19:42:36.388744",
     "exception": false,
     "start_time": "2025-02-25T19:42:36.372278",
     "status": "completed"
    },
    "tags": []
   },
   "outputs": [
    {
     "data": {
      "application/javascript": [
       "parent.postMessage({\"jupyterEvent\": \"custom.exercise_interaction\", \"data\": {\"outcomeType\": 1, \"valueTowardsCompletion\": 0.2, \"interactionType\": 1, \"questionType\": 2, \"questionId\": \"3_GetCostPaint\", \"learnToolsVersion\": \"0.3.4\", \"failureMessage\": \"\", \"exceptionClass\": \"\", \"trace\": \"\"}}, \"*\")"
      ],
      "text/plain": [
       "<IPython.core.display.Javascript object>"
      ]
     },
     "metadata": {},
     "output_type": "display_data"
    },
    {
     "data": {
      "text/markdown": [
       "<span style=\"color:#33cc33\">Correct</span>"
      ],
      "text/plain": [
       "Correct"
      ]
     },
     "metadata": {},
     "output_type": "display_data"
    }
   ],
   "source": [
    "# TODO: Finish defining the function\n",
    "def get_cost(sqft_walls, sqft_ceiling, sqft_per_gallon, cost_per_gallon):\n",
    "    total_sqft = sqft_walls + sqft_ceiling\n",
    "    gallons_needed = total_sqft / sqft_per_gallon\n",
    "    cost = cost_per_gallon * gallons_needed\n",
    "    return cost\n",
    "\n",
    "# Check your answer\n",
    "q3.check()"
   ]
  },
  {
   "cell_type": "code",
   "execution_count": 7,
   "id": "3a8a605d",
   "metadata": {
    "execution": {
     "iopub.execute_input": "2025-02-25T19:42:36.401876Z",
     "iopub.status.busy": "2025-02-25T19:42:36.401493Z",
     "iopub.status.idle": "2025-02-25T19:42:36.405781Z",
     "shell.execute_reply": "2025-02-25T19:42:36.404600Z"
    },
    "papermill": {
     "duration": 0.012843,
     "end_time": "2025-02-25T19:42:36.407647",
     "exception": false,
     "start_time": "2025-02-25T19:42:36.394804",
     "status": "completed"
    },
    "tags": []
   },
   "outputs": [],
   "source": [
    "# Uncomment to see a hint\n",
    "#q3.hint()\n",
    "\n",
    "# Uncomment to view the solution\n",
    "#q3.solution()"
   ]
  },
  {
   "cell_type": "markdown",
   "id": "05fe1441",
   "metadata": {
    "papermill": {
     "duration": 0.005624,
     "end_time": "2025-02-25T19:42:36.419409",
     "exception": false,
     "start_time": "2025-02-25T19:42:36.413785",
     "status": "completed"
    },
    "tags": []
   },
   "source": [
    "# Question 4\n",
    "\n",
    "Use the `get_cost()` function you defined in Question 3 to calculate the cost of applying one coat of paint to a room with:\n",
    "- 432 square feet of walls, and\n",
    "- 144 square feet of ceiling.\n",
    "\n",
    "Assume that one gallon of paint covers 400 square feet and costs $15.  As in Question 3, assume you can buy partial gallons of paint.  Do not round your answer."
   ]
  },
  {
   "cell_type": "code",
   "execution_count": 8,
   "id": "a7253476",
   "metadata": {
    "execution": {
     "iopub.execute_input": "2025-02-25T19:42:36.432955Z",
     "iopub.status.busy": "2025-02-25T19:42:36.432574Z",
     "iopub.status.idle": "2025-02-25T19:42:36.441254Z",
     "shell.execute_reply": "2025-02-25T19:42:36.440177Z"
    },
    "papermill": {
     "duration": 0.0177,
     "end_time": "2025-02-25T19:42:36.443079",
     "exception": false,
     "start_time": "2025-02-25T19:42:36.425379",
     "status": "completed"
    },
    "tags": []
   },
   "outputs": [
    {
     "data": {
      "application/javascript": [
       "parent.postMessage({\"jupyterEvent\": \"custom.exercise_interaction\", \"data\": {\"outcomeType\": 1, \"valueTowardsCompletion\": 0.2, \"interactionType\": 1, \"questionType\": 1, \"questionId\": \"4_GetCostPaintExample\", \"learnToolsVersion\": \"0.3.4\", \"failureMessage\": \"\", \"exceptionClass\": \"\", \"trace\": \"\"}}, \"*\")"
      ],
      "text/plain": [
       "<IPython.core.display.Javascript object>"
      ]
     },
     "metadata": {},
     "output_type": "display_data"
    },
    {
     "data": {
      "text/markdown": [
       "<span style=\"color:#33cc33\">Correct</span>"
      ],
      "text/plain": [
       "Correct"
      ]
     },
     "metadata": {},
     "output_type": "display_data"
    }
   ],
   "source": [
    "# TODO: Set the project_cost variable to the cost of the project\n",
    "project_cost = get_cost(432, 144, 400, 15)\n",
    "\n",
    "# Check your answer\n",
    "q4.check()"
   ]
  },
  {
   "cell_type": "code",
   "execution_count": 9,
   "id": "478ee429",
   "metadata": {
    "execution": {
     "iopub.execute_input": "2025-02-25T19:42:36.456781Z",
     "iopub.status.busy": "2025-02-25T19:42:36.456409Z",
     "iopub.status.idle": "2025-02-25T19:42:36.460501Z",
     "shell.execute_reply": "2025-02-25T19:42:36.459391Z"
    },
    "papermill": {
     "duration": 0.012866,
     "end_time": "2025-02-25T19:42:36.462412",
     "exception": false,
     "start_time": "2025-02-25T19:42:36.449546",
     "status": "completed"
    },
    "tags": []
   },
   "outputs": [],
   "source": [
    "# Uncomment to see a hint\n",
    "#q4.hint()\n",
    "\n",
    "# Uncomment to view the solution\n",
    "#q4.solution()"
   ]
  },
  {
   "cell_type": "markdown",
   "id": "f2e1fac1",
   "metadata": {
    "papermill": {
     "duration": 0.006586,
     "end_time": "2025-02-25T19:42:36.475415",
     "exception": false,
     "start_time": "2025-02-25T19:42:36.468829",
     "status": "completed"
    },
    "tags": []
   },
   "source": [
    "# 🌶️ Question 5\n",
    "\n",
    "Now say you can no longer buy fractions of a gallon.  (For instance, if you need 4.3 gallons to do a project, then you have to buy 5 gallons of paint.)\n",
    "\n",
    "With this new scenario, you will create a new function `get_actual_cost` that uses the same inputs and calculates the cost of your project.\n",
    "\n",
    "One function that you'll need to use to do this is `math.ceil()`.  We demonstrate usage of this function in the code cell below.  It takes as a number as input and rounds the number up to the nearest integer.  \n",
    "\n",
    "Run the next code cell to test this function for yourself.  Feel free to change the value of `test_value` and make sure `math.ceil()` returns the number you expect."
   ]
  },
  {
   "cell_type": "code",
   "execution_count": 10,
   "id": "141b7b92",
   "metadata": {
    "execution": {
     "iopub.execute_input": "2025-02-25T19:42:36.489907Z",
     "iopub.status.busy": "2025-02-25T19:42:36.489550Z",
     "iopub.status.idle": "2025-02-25T19:42:36.495054Z",
     "shell.execute_reply": "2025-02-25T19:42:36.493764Z"
    },
    "papermill": {
     "duration": 0.014813,
     "end_time": "2025-02-25T19:42:36.496839",
     "exception": false,
     "start_time": "2025-02-25T19:42:36.482026",
     "status": "completed"
    },
    "tags": []
   },
   "outputs": [
    {
     "name": "stdout",
     "output_type": "stream",
     "text": [
      "3\n"
     ]
    }
   ],
   "source": [
    "test_value = 2.17\n",
    "\n",
    "rounded_value = math.ceil(test_value)\n",
    "print(rounded_value)"
   ]
  },
  {
   "cell_type": "markdown",
   "id": "ae762619",
   "metadata": {
    "papermill": {
     "duration": 0.00571,
     "end_time": "2025-02-25T19:42:36.508900",
     "exception": false,
     "start_time": "2025-02-25T19:42:36.503190",
     "status": "completed"
    },
    "tags": []
   },
   "source": [
    "Use the next code cell to define the function `get_actual_cost()`.  You'll need to use the `math.ceil()` function to do this.\n",
    "\n",
    "When answering this question, note that it's completely valid to define a function that makes use of another function.  For instance, we can define a function `round_up_and_divide_by_three` that makes use of the `math.ceil` function:\n",
    "```\n",
    "def round_up_and_divide_by_three(num):\n",
    "    new_value = math.ceil(num)\n",
    "    final_value = new_value / 3\n",
    "    return final_value\n",
    "```"
   ]
  },
  {
   "cell_type": "code",
   "execution_count": 11,
   "id": "3429058c",
   "metadata": {
    "execution": {
     "iopub.execute_input": "2025-02-25T19:42:36.522620Z",
     "iopub.status.busy": "2025-02-25T19:42:36.522267Z",
     "iopub.status.idle": "2025-02-25T19:42:36.530650Z",
     "shell.execute_reply": "2025-02-25T19:42:36.529531Z"
    },
    "papermill": {
     "duration": 0.017639,
     "end_time": "2025-02-25T19:42:36.532465",
     "exception": false,
     "start_time": "2025-02-25T19:42:36.514826",
     "status": "completed"
    },
    "tags": []
   },
   "outputs": [
    {
     "data": {
      "application/javascript": [
       "parent.postMessage({\"jupyterEvent\": \"custom.exercise_interaction\", \"data\": {\"outcomeType\": 1, \"valueTowardsCompletion\": 0.2, \"interactionType\": 1, \"questionType\": 2, \"questionId\": \"5_NoMoreFractions\", \"learnToolsVersion\": \"0.3.4\", \"failureMessage\": \"\", \"exceptionClass\": \"\", \"trace\": \"\"}}, \"*\")"
      ],
      "text/plain": [
       "<IPython.core.display.Javascript object>"
      ]
     },
     "metadata": {},
     "output_type": "display_data"
    },
    {
     "data": {
      "text/markdown": [
       "<span style=\"color:#33cc33\">Correct</span>"
      ],
      "text/plain": [
       "Correct"
      ]
     },
     "metadata": {},
     "output_type": "display_data"
    }
   ],
   "source": [
    "def get_actual_cost(sqft_walls, sqft_ceiling, sqft_per_gallon, cost_per_gallon):\n",
    "    total_sqft = sqft_walls + sqft_ceiling\n",
    "    gallons_needed = total_sqft / sqft_per_gallon\n",
    "    gallons_to_buy = math.ceil(gallons_needed)\n",
    "    cost = cost_per_gallon * gallons_to_buy\n",
    "    return cost\n",
    "\n",
    "# Check your answer\n",
    "q5.check()"
   ]
  },
  {
   "cell_type": "code",
   "execution_count": 12,
   "id": "c92b8211",
   "metadata": {
    "execution": {
     "iopub.execute_input": "2025-02-25T19:42:36.547386Z",
     "iopub.status.busy": "2025-02-25T19:42:36.547034Z",
     "iopub.status.idle": "2025-02-25T19:42:36.551317Z",
     "shell.execute_reply": "2025-02-25T19:42:36.550190Z"
    },
    "papermill": {
     "duration": 0.014085,
     "end_time": "2025-02-25T19:42:36.553290",
     "exception": false,
     "start_time": "2025-02-25T19:42:36.539205",
     "status": "completed"
    },
    "tags": []
   },
   "outputs": [],
   "source": [
    "# Uncomment to see a hint\n",
    "#q5.hint()\n",
    "\n",
    "# Uncomment to view the solution\n",
    "#q5.solution()"
   ]
  },
  {
   "cell_type": "markdown",
   "id": "80a401c7",
   "metadata": {
    "papermill": {
     "duration": 0.005873,
     "end_time": "2025-02-25T19:42:36.565581",
     "exception": false,
     "start_time": "2025-02-25T19:42:36.559708",
     "status": "completed"
    },
    "tags": []
   },
   "source": [
    "Once your function is verified as correct, run the next code cell to calculate the updated cost of your project."
   ]
  },
  {
   "cell_type": "code",
   "execution_count": 13,
   "id": "9653d6da",
   "metadata": {
    "execution": {
     "iopub.execute_input": "2025-02-25T19:42:36.579349Z",
     "iopub.status.busy": "2025-02-25T19:42:36.578937Z",
     "iopub.status.idle": "2025-02-25T19:42:36.585146Z",
     "shell.execute_reply": "2025-02-25T19:42:36.584164Z"
    },
    "papermill": {
     "duration": 0.015287,
     "end_time": "2025-02-25T19:42:36.587109",
     "exception": false,
     "start_time": "2025-02-25T19:42:36.571822",
     "status": "completed"
    },
    "tags": []
   },
   "outputs": [
    {
     "data": {
      "text/plain": [
       "30"
      ]
     },
     "execution_count": 13,
     "metadata": {},
     "output_type": "execute_result"
    }
   ],
   "source": [
    "get_actual_cost(432, 144, 400, 15) "
   ]
  },
  {
   "cell_type": "markdown",
   "id": "a3ace9d7",
   "metadata": {
    "papermill": {
     "duration": 0.006369,
     "end_time": "2025-02-25T19:42:36.600616",
     "exception": false,
     "start_time": "2025-02-25T19:42:36.594247",
     "status": "completed"
    },
    "tags": []
   },
   "source": [
    "Say you're working with a slightly larger room.  Run the next code cell to calculate the cost of the project."
   ]
  },
  {
   "cell_type": "code",
   "execution_count": 14,
   "id": "044c5109",
   "metadata": {
    "execution": {
     "iopub.execute_input": "2025-02-25T19:42:36.614938Z",
     "iopub.status.busy": "2025-02-25T19:42:36.614582Z",
     "iopub.status.idle": "2025-02-25T19:42:36.620635Z",
     "shell.execute_reply": "2025-02-25T19:42:36.619496Z"
    },
    "papermill": {
     "duration": 0.015449,
     "end_time": "2025-02-25T19:42:36.622413",
     "exception": false,
     "start_time": "2025-02-25T19:42:36.606964",
     "status": "completed"
    },
    "tags": []
   },
   "outputs": [
    {
     "data": {
      "text/plain": [
       "45"
      ]
     },
     "execution_count": 14,
     "metadata": {},
     "output_type": "execute_result"
    }
   ],
   "source": [
    "get_actual_cost(594, 288, 400, 15) "
   ]
  },
  {
   "cell_type": "markdown",
   "id": "308023ae",
   "metadata": {
    "papermill": {
     "duration": 0.006087,
     "end_time": "2025-02-25T19:42:36.635208",
     "exception": false,
     "start_time": "2025-02-25T19:42:36.629121",
     "status": "completed"
    },
    "tags": []
   },
   "source": [
    "# Keep going\n",
    "\n",
    "Continue to learn about **[data types](https://www.kaggle.com/alexisbcook/data-types)**."
   ]
  },
  {
   "cell_type": "markdown",
   "id": "3341a6c7",
   "metadata": {
    "papermill": {
     "duration": 0.006026,
     "end_time": "2025-02-25T19:42:36.647745",
     "exception": false,
     "start_time": "2025-02-25T19:42:36.641719",
     "status": "completed"
    },
    "tags": []
   },
   "source": [
    "---\n",
    "\n",
    "\n",
    "\n",
    "\n",
    "*Have questions or comments? Visit the [course discussion forum](https://www.kaggle.com/learn/intro-to-programming/discussion) to chat with other learners.*"
   ]
  }
 ],
 "metadata": {
  "kaggle": {
   "accelerator": "none",
   "dataSources": [],
   "isGpuEnabled": false,
   "isInternetEnabled": false,
   "language": "python",
   "sourceType": "notebook"
  },
  "kernelspec": {
   "display_name": "Python 3",
   "language": "python",
   "name": "python3"
  },
  "language_info": {
   "codemirror_mode": {
    "name": "ipython",
    "version": 3
   },
   "file_extension": ".py",
   "mimetype": "text/x-python",
   "name": "python",
   "nbconvert_exporter": "python",
   "pygments_lexer": "ipython3",
   "version": "3.10.12"
  },
  "papermill": {
   "default_parameters": {},
   "duration": 5.356085,
   "end_time": "2025-02-25T19:42:37.277079",
   "environment_variables": {},
   "exception": null,
   "input_path": "__notebook__.ipynb",
   "output_path": "__notebook__.ipynb",
   "parameters": {},
   "start_time": "2025-02-25T19:42:31.920994",
   "version": "2.6.0"
  }
 },
 "nbformat": 4,
 "nbformat_minor": 5
}

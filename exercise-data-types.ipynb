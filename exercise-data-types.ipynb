{
 "cells": [
  {
   "cell_type": "markdown",
   "id": "e9e759f0",
   "metadata": {
    "papermill": {
     "duration": 0.004144,
     "end_time": "2025-02-25T20:05:53.426609",
     "exception": false,
     "start_time": "2025-02-25T20:05:53.422465",
     "status": "completed"
    },
    "tags": []
   },
   "source": [
    "**This notebook is an exercise in the [Intro to Programming](https://www.kaggle.com/learn/intro-to-programming) course.  You can reference the tutorial at [this link](https://www.kaggle.com/alexisbcook/data-types).**\n",
    "\n",
    "---\n"
   ]
  },
  {
   "cell_type": "markdown",
   "id": "2acd2c91",
   "metadata": {
    "papermill": {
     "duration": 0.003241,
     "end_time": "2025-02-25T20:05:53.433405",
     "exception": false,
     "start_time": "2025-02-25T20:05:53.430164",
     "status": "completed"
    },
    "tags": []
   },
   "source": [
    "In the tutorial, you learned about four different data types: floats, integers, strings, and booleans.  In this exercise, you'll experiment with them.\n",
    "\n",
    "# Set up the notebook\n",
    "\n",
    "Run the next code cell without changes to set up the notebook."
   ]
  },
  {
   "cell_type": "code",
   "execution_count": 1,
   "id": "fcdcac25",
   "metadata": {
    "execution": {
     "iopub.execute_input": "2025-02-25T20:05:53.441588Z",
     "iopub.status.busy": "2025-02-25T20:05:53.441257Z",
     "iopub.status.idle": "2025-02-25T20:05:54.624682Z",
     "shell.execute_reply": "2025-02-25T20:05:54.623362Z"
    },
    "papermill": {
     "duration": 1.189504,
     "end_time": "2025-02-25T20:05:54.626263",
     "exception": false,
     "start_time": "2025-02-25T20:05:53.436759",
     "status": "completed"
    },
    "tags": []
   },
   "outputs": [
    {
     "name": "stdout",
     "output_type": "stream",
     "text": [
      "Setup complete.\n"
     ]
    }
   ],
   "source": [
    "# Set up the exercise\n",
    "from learntools.core import binder\n",
    "binder.bind(globals())\n",
    "from learntools.intro_to_programming.ex3 import *\n",
    "print('Setup complete.')"
   ]
  },
  {
   "cell_type": "markdown",
   "id": "939cd771",
   "metadata": {
    "papermill": {
     "duration": 0.003385,
     "end_time": "2025-02-25T20:05:54.633853",
     "exception": false,
     "start_time": "2025-02-25T20:05:54.630468",
     "status": "completed"
    },
    "tags": []
   },
   "source": [
    "# Question 1\n",
    "\n",
    "You have seen how to convert a float to an integer with the `int` function.  Try this out yourself by running the code cell below."
   ]
  },
  {
   "cell_type": "code",
   "execution_count": 2,
   "id": "e6ed0901",
   "metadata": {
    "execution": {
     "iopub.execute_input": "2025-02-25T20:05:54.642358Z",
     "iopub.status.busy": "2025-02-25T20:05:54.641930Z",
     "iopub.status.idle": "2025-02-25T20:05:54.647188Z",
     "shell.execute_reply": "2025-02-25T20:05:54.645866Z"
    },
    "papermill": {
     "duration": 0.011181,
     "end_time": "2025-02-25T20:05:54.648606",
     "exception": false,
     "start_time": "2025-02-25T20:05:54.637425",
     "status": "completed"
    },
    "tags": []
   },
   "outputs": [
    {
     "name": "stdout",
     "output_type": "stream",
     "text": [
      "1.0\n",
      "<class 'float'>\n",
      "1\n",
      "<class 'int'>\n"
     ]
    }
   ],
   "source": [
    "# Define a float\n",
    "y = 1.\n",
    "print(y)\n",
    "print(type(y))\n",
    "\n",
    "# Convert float to integer with the int function\n",
    "z = int(y)\n",
    "print(z)\n",
    "print(type(z))"
   ]
  },
  {
   "cell_type": "markdown",
   "id": "a06b3e59",
   "metadata": {
    "papermill": {
     "duration": 0.003532,
     "end_time": "2025-02-25T20:05:54.656412",
     "exception": false,
     "start_time": "2025-02-25T20:05:54.652880",
     "status": "completed"
    },
    "tags": []
   },
   "source": [
    "In this case, the float you are using has no numbers after the decimal.  \n",
    "- But what happens when you try to convert a float with a fractional part to an integer?  \n",
    "- How does the outcome of the `int` function change for positive and negative numbers?\n",
    "\n",
    "Use the next code cell to investigate and answer these questions.  Feel free to add or remove any lines of code -- it is your workspace!"
   ]
  },
  {
   "cell_type": "code",
   "execution_count": 3,
   "id": "5087ddcb",
   "metadata": {
    "execution": {
     "iopub.execute_input": "2025-02-25T20:05:54.665046Z",
     "iopub.status.busy": "2025-02-25T20:05:54.664609Z",
     "iopub.status.idle": "2025-02-25T20:05:54.669844Z",
     "shell.execute_reply": "2025-02-25T20:05:54.668794Z"
    },
    "papermill": {
     "duration": 0.01123,
     "end_time": "2025-02-25T20:05:54.671389",
     "exception": false,
     "start_time": "2025-02-25T20:05:54.660159",
     "status": "completed"
    },
    "tags": []
   },
   "outputs": [
    {
     "name": "stdout",
     "output_type": "stream",
     "text": [
      "1\n",
      "1\n",
      "-3\n",
      "-2\n"
     ]
    }
   ],
   "source": [
    "# Uncomment and run this code to get started!\n",
    "print(int(1.2321))\n",
    "print(int(1.747))\n",
    "print(int(-3.94535))\n",
    "print(int(-2.19774))"
   ]
  },
  {
   "cell_type": "markdown",
   "id": "a1ba25f0",
   "metadata": {
    "papermill": {
     "duration": 0.00379,
     "end_time": "2025-02-25T20:05:54.679528",
     "exception": false,
     "start_time": "2025-02-25T20:05:54.675738",
     "status": "completed"
    },
    "tags": []
   },
   "source": [
    "Once you have an answer, run the code cell below to see the solution.  Viewing the solution will give you credit for answering the problem."
   ]
  },
  {
   "cell_type": "code",
   "execution_count": 4,
   "id": "ca052d2b",
   "metadata": {
    "execution": {
     "iopub.execute_input": "2025-02-25T20:05:54.688302Z",
     "iopub.status.busy": "2025-02-25T20:05:54.687972Z",
     "iopub.status.idle": "2025-02-25T20:05:54.696128Z",
     "shell.execute_reply": "2025-02-25T20:05:54.694708Z"
    },
    "papermill": {
     "duration": 0.01443,
     "end_time": "2025-02-25T20:05:54.697739",
     "exception": false,
     "start_time": "2025-02-25T20:05:54.683309",
     "status": "completed"
    },
    "tags": []
   },
   "outputs": [
    {
     "data": {
      "application/javascript": [
       "parent.postMessage({\"jupyterEvent\": \"custom.exercise_interaction\", \"data\": {\"outcomeType\": 1, \"valueTowardsCompletion\": 0.2, \"interactionType\": 1, \"questionType\": 4, \"questionId\": \"1_FloatToInt\", \"learnToolsVersion\": \"0.3.4\", \"failureMessage\": \"\", \"exceptionClass\": \"\", \"trace\": \"\"}}, \"*\")"
      ],
      "text/plain": [
       "<IPython.core.display.Javascript object>"
      ]
     },
     "metadata": {},
     "output_type": "display_data"
    },
    {
     "data": {
      "text/markdown": [
       "<span style=\"color:#33cc33\">Correct:</span> \n",
       "\n",
       "Negative floats are always rounded UP to the closest integer (for instance, both -1.1 and -1.9 are rounded up to -1). Positive floats are always rounded DOWN to the closest integer (for instance, 2.1 and 2.9 are rounded down to 2)."
      ],
      "text/plain": [
       "Correct: \n",
       "\n",
       "Negative floats are always rounded UP to the closest integer (for instance, both -1.1 and -1.9 are rounded up to -1). Positive floats are always rounded DOWN to the closest integer (for instance, 2.1 and 2.9 are rounded down to 2)."
      ]
     },
     "metadata": {},
     "output_type": "display_data"
    }
   ],
   "source": [
    "# Check your answer (Run this code cell to receive credit!)\n",
    "q1.check()"
   ]
  },
  {
   "cell_type": "markdown",
   "id": "a51a9df0",
   "metadata": {
    "papermill": {
     "duration": 0.003718,
     "end_time": "2025-02-25T20:05:54.706121",
     "exception": false,
     "start_time": "2025-02-25T20:05:54.702403",
     "status": "completed"
    },
    "tags": []
   },
   "source": [
    "# Question 2\n",
    "\n",
    "In the tutorial, you learned about booleans (which can take a value of `True` or `False`), in addition to integers, floats, and strings.  For this question, your goal is to determine what happens when you multiply a boolean by any of these data types.  Specifically, \n",
    "- What happens when you multiply an integer or float by `True`?  What happens when you multiply them by `False`?  How does the answer change if the numbers are positive or negative?\n",
    "- What happens when you multiply a string by `True`?  By `False`?\n",
    "\n",
    "Use the next code cell for your investigation. "
   ]
  },
  {
   "cell_type": "code",
   "execution_count": 5,
   "id": "d0a2eaff",
   "metadata": {
    "execution": {
     "iopub.execute_input": "2025-02-25T20:05:54.715068Z",
     "iopub.status.busy": "2025-02-25T20:05:54.714739Z",
     "iopub.status.idle": "2025-02-25T20:05:54.719780Z",
     "shell.execute_reply": "2025-02-25T20:05:54.718660Z"
    },
    "papermill": {
     "duration": 0.011414,
     "end_time": "2025-02-25T20:05:54.721416",
     "exception": false,
     "start_time": "2025-02-25T20:05:54.710002",
     "status": "completed"
    },
    "tags": []
   },
   "outputs": [
    {
     "name": "stdout",
     "output_type": "stream",
     "text": [
      "3\n",
      "-3.1\n",
      "<class 'str'>\n",
      "0\n"
     ]
    }
   ],
   "source": [
    "# Uncomment and run this code to get started!\n",
    "print(3 * True)\n",
    "print(-3.1 * True)\n",
    "print(type(\"abc\" * False))\n",
    "print(len(\"abc\" * False))"
   ]
  },
  {
   "cell_type": "markdown",
   "id": "11b79304",
   "metadata": {
    "papermill": {
     "duration": 0.00376,
     "end_time": "2025-02-25T20:05:54.729820",
     "exception": false,
     "start_time": "2025-02-25T20:05:54.726060",
     "status": "completed"
    },
    "tags": []
   },
   "source": [
    "Once you have an answer, run the code cell below to see the solution.  Viewing the solution will give you credit for answering the problem."
   ]
  },
  {
   "cell_type": "code",
   "execution_count": 6,
   "id": "21da64e7",
   "metadata": {
    "execution": {
     "iopub.execute_input": "2025-02-25T20:05:54.740274Z",
     "iopub.status.busy": "2025-02-25T20:05:54.740014Z",
     "iopub.status.idle": "2025-02-25T20:05:54.746408Z",
     "shell.execute_reply": "2025-02-25T20:05:54.745602Z"
    },
    "papermill": {
     "duration": 0.012953,
     "end_time": "2025-02-25T20:05:54.747803",
     "exception": false,
     "start_time": "2025-02-25T20:05:54.734850",
     "status": "completed"
    },
    "tags": []
   },
   "outputs": [
    {
     "data": {
      "application/javascript": [
       "parent.postMessage({\"jupyterEvent\": \"custom.exercise_interaction\", \"data\": {\"outcomeType\": 1, \"valueTowardsCompletion\": 0.2, \"interactionType\": 1, \"questionType\": 4, \"questionId\": \"2_MultiplyBooleans\", \"learnToolsVersion\": \"0.3.4\", \"failureMessage\": \"\", \"exceptionClass\": \"\", \"trace\": \"\"}}, \"*\")"
      ],
      "text/plain": [
       "<IPython.core.display.Javascript object>"
      ]
     },
     "metadata": {},
     "output_type": "display_data"
    },
    {
     "data": {
      "text/markdown": [
       "<span style=\"color:#33cc33\">Correct:</span> \n",
       "\n",
       "When you multiple an integer or float by a boolean with value `True`, it just returns that same integer or float (and is equivalent to multiplying by 1).  If you multiply an integer or float by a boolean with value `False`, it always returns 0.  This is true for both positive and negative numbers.  If you multiply a string by a boolean with value `True`, it just returns that same string.  And if you multiply a string by a boolean with value `False`, it returns an empty string (or a string with length zero)."
      ],
      "text/plain": [
       "Correct: \n",
       "\n",
       "When you multiple an integer or float by a boolean with value `True`, it just returns that same integer or float (and is equivalent to multiplying by 1).  If you multiply an integer or float by a boolean with value `False`, it always returns 0.  This is true for both positive and negative numbers.  If you multiply a string by a boolean with value `True`, it just returns that same string.  And if you multiply a string by a boolean with value `False`, it returns an empty string (or a string with length zero)."
      ]
     },
     "metadata": {},
     "output_type": "display_data"
    }
   ],
   "source": [
    "# Check your answer (Run this code cell to receive credit!)\n",
    "q2.check()"
   ]
  },
  {
   "cell_type": "markdown",
   "id": "b60442f7",
   "metadata": {
    "papermill": {
     "duration": 0.004063,
     "end_time": "2025-02-25T20:05:54.756691",
     "exception": false,
     "start_time": "2025-02-25T20:05:54.752628",
     "status": "completed"
    },
    "tags": []
   },
   "source": [
    "# Question 3\n",
    "\n",
    "In this question, you will build off your work from the previous exercise to write a function that estimates the value of a house.\n",
    "\n",
    "Use the next code cell to create a function `get_expected_cost` that takes as input three variables:\n",
    "- `beds` - number of bedrooms (data type float)\n",
    "- `baths` - number of bathrooms (data type float)\n",
    "- `has_basement` - whether or not the house has a basement (data type boolean)\n",
    "\n",
    "It should return the expected cost of a house with those characteristics. Assume that:\n",
    "- the expected cost for a house with 0 bedrooms and 0 bathrooms, and no basement is 80000, \n",
    "- each bedroom adds 30000 to the expected cost,\n",
    "- each bathroom adds 10000 to the expected cost, and\n",
    "- a basement adds 40000 to the expected cost.\n",
    "\n",
    "For instance,\n",
    "- a house with 1 bedroom, 1 bathroom, and no basement has an expected cost of 80000 + 30000 + 10000 = 120000.  This value will be calculated with `get_expected_cost(1, 1, False)`.\n",
    "- a house with 2 bedrooms, 1 bathroom, and a basement has an expected cost of 80000 + 2*30000 + 10000 + 40000 = 190000.  This value will be calculated with `get_expected_cost(2, 1, True)`.\n",
    "\n",
    "Remember you can always get a hint by uncommenting `q3.hint()` in the code cell following the next!"
   ]
  },
  {
   "cell_type": "code",
   "execution_count": 7,
   "id": "ffa79779",
   "metadata": {
    "execution": {
     "iopub.execute_input": "2025-02-25T20:05:54.766221Z",
     "iopub.status.busy": "2025-02-25T20:05:54.765867Z",
     "iopub.status.idle": "2025-02-25T20:05:54.772385Z",
     "shell.execute_reply": "2025-02-25T20:05:54.771584Z"
    },
    "papermill": {
     "duration": 0.012845,
     "end_time": "2025-02-25T20:05:54.773720",
     "exception": false,
     "start_time": "2025-02-25T20:05:54.760875",
     "status": "completed"
    },
    "tags": []
   },
   "outputs": [
    {
     "data": {
      "application/javascript": [
       "parent.postMessage({\"jupyterEvent\": \"custom.exercise_interaction\", \"data\": {\"outcomeType\": 1, \"valueTowardsCompletion\": 0.2, \"interactionType\": 1, \"questionType\": 2, \"questionId\": \"3_EstimateHouseValueBool\", \"learnToolsVersion\": \"0.3.4\", \"failureMessage\": \"\", \"exceptionClass\": \"\", \"trace\": \"\"}}, \"*\")"
      ],
      "text/plain": [
       "<IPython.core.display.Javascript object>"
      ]
     },
     "metadata": {},
     "output_type": "display_data"
    },
    {
     "data": {
      "text/markdown": [
       "<span style=\"color:#33cc33\">Correct</span>"
      ],
      "text/plain": [
       "Correct"
      ]
     },
     "metadata": {},
     "output_type": "display_data"
    }
   ],
   "source": [
    "# TODO: Complete the function\n",
    "def get_expected_cost(beds, baths, has_basement):\n",
    "    value = 80000 + 30000 * beds + 10000 * baths + 40000 * has_basement\n",
    "    return value\n",
    "\n",
    "# Check your answer \n",
    "q3.check()"
   ]
  },
  {
   "cell_type": "code",
   "execution_count": 8,
   "id": "ce2aef6a",
   "metadata": {
    "execution": {
     "iopub.execute_input": "2025-02-25T20:05:54.783756Z",
     "iopub.status.busy": "2025-02-25T20:05:54.783474Z",
     "iopub.status.idle": "2025-02-25T20:05:54.786462Z",
     "shell.execute_reply": "2025-02-25T20:05:54.785795Z"
    },
    "papermill": {
     "duration": 0.009053,
     "end_time": "2025-02-25T20:05:54.787604",
     "exception": false,
     "start_time": "2025-02-25T20:05:54.778551",
     "status": "completed"
    },
    "tags": []
   },
   "outputs": [],
   "source": [
    "# Uncomment to see a hint\n",
    "#q3.hint()\n",
    "\n",
    "# Uncomment to view the solution\n",
    "#q3.solution()"
   ]
  },
  {
   "cell_type": "markdown",
   "id": "8f93dcb7",
   "metadata": {
    "papermill": {
     "duration": 0.003883,
     "end_time": "2025-02-25T20:05:54.796331",
     "exception": false,
     "start_time": "2025-02-25T20:05:54.792448",
     "status": "completed"
    },
    "tags": []
   },
   "source": [
    "# Question 4\n",
    "\n",
    "We'll continue our study of boolean arithmetic.  For this question, your task is to provide a description of what happpens when you add booleans. \n",
    "\n",
    "Use the next code cell for your investigation.  Feel free to add or remove any lines of code - use it as your workspace!"
   ]
  },
  {
   "cell_type": "code",
   "execution_count": 9,
   "id": "ffbe4e1d",
   "metadata": {
    "execution": {
     "iopub.execute_input": "2025-02-25T20:05:54.805796Z",
     "iopub.status.busy": "2025-02-25T20:05:54.805503Z",
     "iopub.status.idle": "2025-02-25T20:05:54.810065Z",
     "shell.execute_reply": "2025-02-25T20:05:54.808790Z"
    },
    "papermill": {
     "duration": 0.010711,
     "end_time": "2025-02-25T20:05:54.811257",
     "exception": false,
     "start_time": "2025-02-25T20:05:54.800546",
     "status": "completed"
    },
    "tags": []
   },
   "outputs": [
    {
     "name": "stdout",
     "output_type": "stream",
     "text": [
      "0\n",
      "1\n",
      "1\n",
      "2\n",
      "3\n"
     ]
    }
   ],
   "source": [
    "print(False + False)\n",
    "print(True + False)\n",
    "print(False + True)\n",
    "print(True + True)\n",
    "print(False + True + True + True)"
   ]
  },
  {
   "cell_type": "markdown",
   "id": "99c946c5",
   "metadata": {
    "papermill": {
     "duration": 0.003872,
     "end_time": "2025-02-25T20:05:54.819622",
     "exception": false,
     "start_time": "2025-02-25T20:05:54.815750",
     "status": "completed"
    },
    "tags": []
   },
   "source": [
    "Once you have an answer, run the code cell below to see the solution.  Viewing the solution will give you credit for answering the problem."
   ]
  },
  {
   "cell_type": "code",
   "execution_count": 10,
   "id": "5a952c87",
   "metadata": {
    "execution": {
     "iopub.execute_input": "2025-02-25T20:05:54.829279Z",
     "iopub.status.busy": "2025-02-25T20:05:54.829016Z",
     "iopub.status.idle": "2025-02-25T20:05:54.834745Z",
     "shell.execute_reply": "2025-02-25T20:05:54.833949Z"
    },
    "papermill": {
     "duration": 0.01209,
     "end_time": "2025-02-25T20:05:54.836035",
     "exception": false,
     "start_time": "2025-02-25T20:05:54.823945",
     "status": "completed"
    },
    "tags": []
   },
   "outputs": [
    {
     "data": {
      "application/javascript": [
       "parent.postMessage({\"jupyterEvent\": \"custom.exercise_interaction\", \"data\": {\"outcomeType\": 1, \"valueTowardsCompletion\": 0.2, \"interactionType\": 1, \"questionType\": 4, \"questionId\": \"4_AddingBooleans\", \"learnToolsVersion\": \"0.3.4\", \"failureMessage\": \"\", \"exceptionClass\": \"\", \"trace\": \"\"}}, \"*\")"
      ],
      "text/plain": [
       "<IPython.core.display.Javascript object>"
      ]
     },
     "metadata": {},
     "output_type": "display_data"
    },
    {
     "data": {
      "text/markdown": [
       "<span style=\"color:#33cc33\">Correct:</span> \n",
       "\n",
       "When you add booleans, adding `False` is equivalent to adding 0, and adding `True` is equivalent to adding 1."
      ],
      "text/plain": [
       "Correct: \n",
       "\n",
       "When you add booleans, adding `False` is equivalent to adding 0, and adding `True` is equivalent to adding 1."
      ]
     },
     "metadata": {},
     "output_type": "display_data"
    }
   ],
   "source": [
    "# Check your answer (Run this code cell to receive credit!)\n",
    "q4.check()"
   ]
  },
  {
   "cell_type": "markdown",
   "id": "e8569217",
   "metadata": {
    "papermill": {
     "duration": 0.004286,
     "end_time": "2025-02-25T20:05:54.845119",
     "exception": false,
     "start_time": "2025-02-25T20:05:54.840833",
     "status": "completed"
    },
    "tags": []
   },
   "source": [
    "# 🌶️ Question 5\n",
    "\n",
    "You own an online shop where you sell rings with custom engravings.  You offer both gold plated and solid gold rings.\n",
    "- Gold plated rings have a base cost of \\\\$50, and you charge \\\\$7 per engraved unit.  \n",
    "- Solid gold rings have a base cost of \\\\$100, and you charge \\\\$10 per engraved unit.\n",
    "- Spaces and punctuation are counted as engraved units.\n",
    "\n",
    "Write a function `cost_of_project()` that takes two arguments:\n",
    "- `engraving` - a Python string with the text of the engraving\n",
    "- `solid_gold` - a Boolean that indicates whether the ring is solid gold\n",
    "\n",
    "It should return the cost of the project.  This question should be fairly challenging, and you may need a hint."
   ]
  },
  {
   "cell_type": "code",
   "execution_count": 11,
   "id": "ac478f5e",
   "metadata": {
    "execution": {
     "iopub.execute_input": "2025-02-25T20:05:54.855659Z",
     "iopub.status.busy": "2025-02-25T20:05:54.855340Z",
     "iopub.status.idle": "2025-02-25T20:05:54.861714Z",
     "shell.execute_reply": "2025-02-25T20:05:54.860980Z"
    },
    "papermill": {
     "duration": 0.013334,
     "end_time": "2025-02-25T20:05:54.863085",
     "exception": false,
     "start_time": "2025-02-25T20:05:54.849751",
     "status": "completed"
    },
    "tags": []
   },
   "outputs": [
    {
     "data": {
      "application/javascript": [
       "parent.postMessage({\"jupyterEvent\": \"custom.exercise_interaction\", \"data\": {\"outcomeType\": 1, \"valueTowardsCompletion\": 0.2, \"interactionType\": 1, \"questionType\": 2, \"questionId\": \"5_CustomEngravings\", \"learnToolsVersion\": \"0.3.4\", \"failureMessage\": \"\", \"exceptionClass\": \"\", \"trace\": \"\"}}, \"*\")"
      ],
      "text/plain": [
       "<IPython.core.display.Javascript object>"
      ]
     },
     "metadata": {},
     "output_type": "display_data"
    },
    {
     "data": {
      "text/markdown": [
       "<span style=\"color:#33cc33\">Correct</span>"
      ],
      "text/plain": [
       "Correct"
      ]
     },
     "metadata": {},
     "output_type": "display_data"
    }
   ],
   "source": [
    "def cost_of_project(engraving, solid_gold):\n",
    "    cost = solid_gold * (100 + 10 * len(engraving)) + (not solid_gold) * (50 + 7 * len(engraving))\n",
    "    return cost\n",
    "\n",
    "# Check your answer\n",
    "q5.check()"
   ]
  },
  {
   "cell_type": "code",
   "execution_count": 12,
   "id": "9feb921f",
   "metadata": {
    "execution": {
     "iopub.execute_input": "2025-02-25T20:05:54.874580Z",
     "iopub.status.busy": "2025-02-25T20:05:54.874313Z",
     "iopub.status.idle": "2025-02-25T20:05:54.877502Z",
     "shell.execute_reply": "2025-02-25T20:05:54.876540Z"
    },
    "papermill": {
     "duration": 0.01029,
     "end_time": "2025-02-25T20:05:54.879074",
     "exception": false,
     "start_time": "2025-02-25T20:05:54.868784",
     "status": "completed"
    },
    "tags": []
   },
   "outputs": [],
   "source": [
    "# Uncomment to see a hint\n",
    "#q5.hint()\n",
    "\n",
    "# Uncomment to view the solution\n",
    "#q5.solution()"
   ]
  },
  {
   "cell_type": "markdown",
   "id": "5f59eb02",
   "metadata": {
    "papermill": {
     "duration": 0.004375,
     "end_time": "2025-02-25T20:05:54.888400",
     "exception": false,
     "start_time": "2025-02-25T20:05:54.884025",
     "status": "completed"
    },
    "tags": []
   },
   "source": [
    "Run the next code cell to calculate the cost of engraving `Charlie+Denver` on a solid gold ring."
   ]
  },
  {
   "cell_type": "code",
   "execution_count": 13,
   "id": "410ff4a1",
   "metadata": {
    "execution": {
     "iopub.execute_input": "2025-02-25T20:05:54.898645Z",
     "iopub.status.busy": "2025-02-25T20:05:54.898352Z",
     "iopub.status.idle": "2025-02-25T20:05:54.903265Z",
     "shell.execute_reply": "2025-02-25T20:05:54.902202Z"
    },
    "papermill": {
     "duration": 0.011516,
     "end_time": "2025-02-25T20:05:54.904523",
     "exception": false,
     "start_time": "2025-02-25T20:05:54.893007",
     "status": "completed"
    },
    "tags": []
   },
   "outputs": [
    {
     "name": "stdout",
     "output_type": "stream",
     "text": [
      "240\n"
     ]
    }
   ],
   "source": [
    "project_one = cost_of_project(\"Charlie+Denver\", True)\n",
    "print(project_one)"
   ]
  },
  {
   "cell_type": "markdown",
   "id": "f7838d2a",
   "metadata": {
    "papermill": {
     "duration": 0.004521,
     "end_time": "2025-02-25T20:05:54.914308",
     "exception": false,
     "start_time": "2025-02-25T20:05:54.909787",
     "status": "completed"
    },
    "tags": []
   },
   "source": [
    "Use the next code cell to calculate the cost of engraving `08/10/2000` on a gold plated ring."
   ]
  },
  {
   "cell_type": "code",
   "execution_count": 14,
   "id": "3d8c9edc",
   "metadata": {
    "execution": {
     "iopub.execute_input": "2025-02-25T20:05:54.924921Z",
     "iopub.status.busy": "2025-02-25T20:05:54.924580Z",
     "iopub.status.idle": "2025-02-25T20:05:54.928978Z",
     "shell.execute_reply": "2025-02-25T20:05:54.928111Z"
    },
    "papermill": {
     "duration": 0.011006,
     "end_time": "2025-02-25T20:05:54.930053",
     "exception": false,
     "start_time": "2025-02-25T20:05:54.919047",
     "status": "completed"
    },
    "tags": []
   },
   "outputs": [
    {
     "name": "stdout",
     "output_type": "stream",
     "text": [
      "120\n"
     ]
    }
   ],
   "source": [
    "project_two = cost_of_project(\"08/10/2000\", False)\n",
    "print(project_two)"
   ]
  },
  {
   "cell_type": "markdown",
   "id": "3f37aab2",
   "metadata": {
    "papermill": {
     "duration": 0.004361,
     "end_time": "2025-02-25T20:05:54.939432",
     "exception": false,
     "start_time": "2025-02-25T20:05:54.935071",
     "status": "completed"
    },
    "tags": []
   },
   "source": [
    "# Keep going\n",
    "\n",
    "Continue to the next lesson to **[learn about conditions and conditional statements](https://www.kaggle.com/alexisbcook/conditions-and-conditional-statements)**."
   ]
  },
  {
   "cell_type": "markdown",
   "id": "2d282225",
   "metadata": {
    "papermill": {
     "duration": 0.004285,
     "end_time": "2025-02-25T20:05:54.948301",
     "exception": false,
     "start_time": "2025-02-25T20:05:54.944016",
     "status": "completed"
    },
    "tags": []
   },
   "source": [
    "---\n",
    "\n",
    "\n",
    "\n",
    "\n",
    "*Have questions or comments? Visit the [course discussion forum](https://www.kaggle.com/learn/intro-to-programming/discussion) to chat with other learners.*"
   ]
  }
 ],
 "metadata": {
  "kaggle": {
   "accelerator": "none",
   "dataSources": [],
   "isGpuEnabled": false,
   "isInternetEnabled": false,
   "language": "python",
   "sourceType": "notebook"
  },
  "kernelspec": {
   "display_name": "Python 3",
   "language": "python",
   "name": "python3"
  },
  "language_info": {
   "codemirror_mode": {
    "name": "ipython",
    "version": 3
   },
   "file_extension": ".py",
   "mimetype": "text/x-python",
   "name": "python",
   "nbconvert_exporter": "python",
   "pygments_lexer": "ipython3",
   "version": "3.10.12"
  },
  "papermill": {
   "default_parameters": {},
   "duration": 5.278707,
   "end_time": "2025-02-25T20:05:55.471102",
   "environment_variables": {},
   "exception": null,
   "input_path": "__notebook__.ipynb",
   "output_path": "__notebook__.ipynb",
   "parameters": {},
   "start_time": "2025-02-25T20:05:50.192395",
   "version": "2.3.3"
  }
 },
 "nbformat": 4,
 "nbformat_minor": 5
}
